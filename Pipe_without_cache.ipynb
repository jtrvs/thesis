{
 "cells": [
  {
   "cell_type": "markdown",
   "id": "9bdd301c",
   "metadata": {},
   "source": [
    "# Пайплайн с полным пересчётом и записью только малой матрицы"
   ]
  },
  {
   "cell_type": "code",
   "execution_count": 3,
   "id": "d32385f5",
   "metadata": {},
   "outputs": [
    {
     "data": {
      "text/html": [
       "    <style>\n",
       "        .bk-notebook-logo {\n",
       "            display: block;\n",
       "            width: 20px;\n",
       "            height: 20px;\n",
       "            background-image: url(data:image/png;base64,iVBORw0KGgoAAAANSUhEUgAAABQAAAAUCAYAAACNiR0NAAAABHNCSVQICAgIfAhkiAAAAAlwSFlzAAALEgAACxIB0t1+/AAAABx0RVh0U29mdHdhcmUAQWRvYmUgRmlyZXdvcmtzIENTNui8sowAAAOkSURBVDiNjZRtaJVlGMd/1/08zzln5zjP1LWcU9N0NkN8m2CYjpgQYQXqSs0I84OLIC0hkEKoPtiH3gmKoiJDU7QpLgoLjLIQCpEsNJ1vqUOdO7ppbuec5+V+rj4ctwzd8IIbbi6u+8f1539dt3A78eXC7QizUF7gyV1fD1Yqg4JWz84yffhm0qkFqBogB9rM8tZdtwVsPUhWhGcFJngGeWrPzHm5oaMmkfEg1usvLFyc8jLRqDOMru7AyC8saQr7GG7f5fvDeH7Ej8CM66nIF+8yngt6HWaKh7k49Soy9nXurCi1o3qUbS3zWfrYeQDTB/Qj6kX6Ybhw4B+bOYoLKCC9H3Nu/leUTZ1JdRWkkn2ldcCamzrcf47KKXdAJllSlxAOkRgyHsGC/zRday5Qld9DyoM4/q/rUoy/CXh3jzOu3bHUVZeU+DEn8FInkPBFlu3+nW3Nw0mk6vCDiWg8CeJaxEwuHS3+z5RgY+YBR6V1Z1nxSOfoaPa4LASWxxdNp+VWTk7+4vzaou8v8PN+xo+KY2xsw6une2frhw05CTYOmQvsEhjhWjn0bmXPjpE1+kplmmkP3suftwTubK9Vq22qKmrBhpY4jvd5afdRA3wGjFAgcnTK2s4hY0/GPNIb0nErGMCRxWOOX64Z8RAC4oCXdklmEvcL8o0BfkNK4lUg9HTl+oPlQxdNo3Mg4Nv175e/1LDGzZen30MEjRUtmXSfiTVu1kK8W4txyV6BMKlbgk3lMwYCiusNy9fVfvvwMxv8Ynl6vxoByANLTWplvuj/nF9m2+PDtt1eiHPBr1oIfhCChQMBw6Aw0UulqTKZdfVvfG7VcfIqLG9bcldL/+pdWTLxLUy8Qq38heUIjh4XlzZxzQm19lLFlr8vdQ97rjZVOLf8nclzckbcD4wxXMidpX30sFd37Fv/GtwwhzhxGVAprjbg0gCAEeIgwCZyTV2Z1REEW8O4py0wsjeloKoMr6iCY6dP92H6Vw/oTyICIthibxjm/DfN9lVz8IqtqKYLUXfoKVMVQVVJOElGjrnnUt9T9wbgp8AyYKaGlqingHZU/uG2NTZSVqwHQTWkx9hxjkpWDaCg6Ckj5qebgBVbT3V3NNXMSiWSDdGV3hrtzla7J+duwPOToIg42ChPQOQjspnSlp1V+Gjdged7+8UN5CRAV7a5EdFNwCjEaBR27b3W890TE7g24NAP/mMDXRWrGoFPQI9ls/MWO2dWFAar/xcOIImbbpA3zgAAAABJRU5ErkJggg==);\n",
       "        }\n",
       "    </style>\n",
       "    <div>\n",
       "        <a href=\"https://bokeh.org\" target=\"_blank\" class=\"bk-notebook-logo\"></a>\n",
       "        <span id=\"a6f74920-bafc-4dd6-8b7e-1bf97d6d20fc\">Loading BokehJS ...</span>\n",
       "    </div>\n"
      ]
     },
     "metadata": {},
     "output_type": "display_data"
    },
    {
     "data": {
      "application/javascript": [
       "'use strict';\n",
       "(function(root) {\n",
       "  function now() {\n",
       "    return new Date();\n",
       "  }\n",
       "\n",
       "  const force = true;\n",
       "\n",
       "  if (typeof root._bokeh_onload_callbacks === \"undefined\" || force === true) {\n",
       "    root._bokeh_onload_callbacks = [];\n",
       "    root._bokeh_is_loading = undefined;\n",
       "  }\n",
       "\n",
       "const JS_MIME_TYPE = 'application/javascript';\n",
       "  const HTML_MIME_TYPE = 'text/html';\n",
       "  const EXEC_MIME_TYPE = 'application/vnd.bokehjs_exec.v0+json';\n",
       "  const CLASS_NAME = 'output_bokeh rendered_html';\n",
       "\n",
       "  /**\n",
       "   * Render data to the DOM node\n",
       "   */\n",
       "  function render(props, node) {\n",
       "    const script = document.createElement(\"script\");\n",
       "    node.appendChild(script);\n",
       "  }\n",
       "\n",
       "  /**\n",
       "   * Handle when an output is cleared or removed\n",
       "   */\n",
       "  function handleClearOutput(event, handle) {\n",
       "    function drop(id) {\n",
       "      const view = Bokeh.index.get_by_id(id)\n",
       "      if (view != null) {\n",
       "        view.model.document.clear()\n",
       "        Bokeh.index.delete(view)\n",
       "      }\n",
       "    }\n",
       "\n",
       "    const cell = handle.cell;\n",
       "\n",
       "    const id = cell.output_area._bokeh_element_id;\n",
       "    const server_id = cell.output_area._bokeh_server_id;\n",
       "\n",
       "    // Clean up Bokeh references\n",
       "    if (id != null) {\n",
       "      drop(id)\n",
       "    }\n",
       "\n",
       "    if (server_id !== undefined) {\n",
       "      // Clean up Bokeh references\n",
       "      const cmd_clean = \"from bokeh.io.state import curstate; print(curstate().uuid_to_server['\" + server_id + \"'].get_sessions()[0].document.roots[0]._id)\";\n",
       "      cell.notebook.kernel.execute(cmd_clean, {\n",
       "        iopub: {\n",
       "          output: function(msg) {\n",
       "            const id = msg.content.text.trim()\n",
       "            drop(id)\n",
       "          }\n",
       "        }\n",
       "      });\n",
       "      // Destroy server and session\n",
       "      const cmd_destroy = \"import bokeh.io.notebook as ion; ion.destroy_server('\" + server_id + \"')\";\n",
       "      cell.notebook.kernel.execute(cmd_destroy);\n",
       "    }\n",
       "  }\n",
       "\n",
       "  /**\n",
       "   * Handle when a new output is added\n",
       "   */\n",
       "  function handleAddOutput(event, handle) {\n",
       "    const output_area = handle.output_area;\n",
       "    const output = handle.output;\n",
       "\n",
       "    // limit handleAddOutput to display_data with EXEC_MIME_TYPE content only\n",
       "    if ((output.output_type != \"display_data\") || (!Object.prototype.hasOwnProperty.call(output.data, EXEC_MIME_TYPE))) {\n",
       "      return\n",
       "    }\n",
       "\n",
       "    const toinsert = output_area.element.find(\".\" + CLASS_NAME.split(' ')[0]);\n",
       "\n",
       "    if (output.metadata[EXEC_MIME_TYPE][\"id\"] !== undefined) {\n",
       "      toinsert[toinsert.length - 1].firstChild.textContent = output.data[JS_MIME_TYPE];\n",
       "      // store reference to embed id on output_area\n",
       "      output_area._bokeh_element_id = output.metadata[EXEC_MIME_TYPE][\"id\"];\n",
       "    }\n",
       "    if (output.metadata[EXEC_MIME_TYPE][\"server_id\"] !== undefined) {\n",
       "      const bk_div = document.createElement(\"div\");\n",
       "      bk_div.innerHTML = output.data[HTML_MIME_TYPE];\n",
       "      const script_attrs = bk_div.children[0].attributes;\n",
       "      for (let i = 0; i < script_attrs.length; i++) {\n",
       "        toinsert[toinsert.length - 1].firstChild.setAttribute(script_attrs[i].name, script_attrs[i].value);\n",
       "        toinsert[toinsert.length - 1].firstChild.textContent = bk_div.children[0].textContent\n",
       "      }\n",
       "      // store reference to server id on output_area\n",
       "      output_area._bokeh_server_id = output.metadata[EXEC_MIME_TYPE][\"server_id\"];\n",
       "    }\n",
       "  }\n",
       "\n",
       "  function register_renderer(events, OutputArea) {\n",
       "\n",
       "    function append_mime(data, metadata, element) {\n",
       "      // create a DOM node to render to\n",
       "      const toinsert = this.create_output_subarea(\n",
       "        metadata,\n",
       "        CLASS_NAME,\n",
       "        EXEC_MIME_TYPE\n",
       "      );\n",
       "      this.keyboard_manager.register_events(toinsert);\n",
       "      // Render to node\n",
       "      const props = {data: data, metadata: metadata[EXEC_MIME_TYPE]};\n",
       "      render(props, toinsert[toinsert.length - 1]);\n",
       "      element.append(toinsert);\n",
       "      return toinsert\n",
       "    }\n",
       "\n",
       "    /* Handle when an output is cleared or removed */\n",
       "    events.on('clear_output.CodeCell', handleClearOutput);\n",
       "    events.on('delete.Cell', handleClearOutput);\n",
       "\n",
       "    /* Handle when a new output is added */\n",
       "    events.on('output_added.OutputArea', handleAddOutput);\n",
       "\n",
       "    /**\n",
       "     * Register the mime type and append_mime function with output_area\n",
       "     */\n",
       "    OutputArea.prototype.register_mime_type(EXEC_MIME_TYPE, append_mime, {\n",
       "      /* Is output safe? */\n",
       "      safe: true,\n",
       "      /* Index of renderer in `output_area.display_order` */\n",
       "      index: 0\n",
       "    });\n",
       "  }\n",
       "\n",
       "  // register the mime type if in Jupyter Notebook environment and previously unregistered\n",
       "  if (root.Jupyter !== undefined) {\n",
       "    const events = require('base/js/events');\n",
       "    const OutputArea = require('notebook/js/outputarea').OutputArea;\n",
       "\n",
       "    if (OutputArea.prototype.mime_types().indexOf(EXEC_MIME_TYPE) == -1) {\n",
       "      register_renderer(events, OutputArea);\n",
       "    }\n",
       "  }\n",
       "  if (typeof (root._bokeh_timeout) === \"undefined\" || force === true) {\n",
       "    root._bokeh_timeout = Date.now() + 5000;\n",
       "    root._bokeh_failed_load = false;\n",
       "  }\n",
       "\n",
       "  const NB_LOAD_WARNING = {'data': {'text/html':\n",
       "     \"<div style='background-color: #fdd'>\\n\"+\n",
       "     \"<p>\\n\"+\n",
       "     \"BokehJS does not appear to have successfully loaded. If loading BokehJS from CDN, this \\n\"+\n",
       "     \"may be due to a slow or bad network connection. Possible fixes:\\n\"+\n",
       "     \"</p>\\n\"+\n",
       "     \"<ul>\\n\"+\n",
       "     \"<li>re-rerun `output_notebook()` to attempt to load from CDN again, or</li>\\n\"+\n",
       "     \"<li>use INLINE resources instead, as so:</li>\\n\"+\n",
       "     \"</ul>\\n\"+\n",
       "     \"<code>\\n\"+\n",
       "     \"from bokeh.resources import INLINE\\n\"+\n",
       "     \"output_notebook(resources=INLINE)\\n\"+\n",
       "     \"</code>\\n\"+\n",
       "     \"</div>\"}};\n",
       "\n",
       "  function display_loaded(error = null) {\n",
       "    const el = document.getElementById(\"a6f74920-bafc-4dd6-8b7e-1bf97d6d20fc\");\n",
       "    if (el != null) {\n",
       "      const html = (() => {\n",
       "        if (typeof root.Bokeh === \"undefined\") {\n",
       "          if (error == null) {\n",
       "            return \"BokehJS is loading ...\";\n",
       "          } else {\n",
       "            return \"BokehJS failed to load.\";\n",
       "          }\n",
       "        } else {\n",
       "          const prefix = `BokehJS ${root.Bokeh.version}`;\n",
       "          if (error == null) {\n",
       "            return `${prefix} successfully loaded.`;\n",
       "          } else {\n",
       "            return `${prefix} <b>encountered errors</b> while loading and may not function as expected.`;\n",
       "          }\n",
       "        }\n",
       "      })();\n",
       "      el.innerHTML = html;\n",
       "\n",
       "      if (error != null) {\n",
       "        const wrapper = document.createElement(\"div\");\n",
       "        wrapper.style.overflow = \"auto\";\n",
       "        wrapper.style.height = \"5em\";\n",
       "        wrapper.style.resize = \"vertical\";\n",
       "        const content = document.createElement(\"div\");\n",
       "        content.style.fontFamily = \"monospace\";\n",
       "        content.style.whiteSpace = \"pre-wrap\";\n",
       "        content.style.backgroundColor = \"rgb(255, 221, 221)\";\n",
       "        content.textContent = error.stack ?? error.toString();\n",
       "        wrapper.append(content);\n",
       "        el.append(wrapper);\n",
       "      }\n",
       "    } else if (Date.now() < root._bokeh_timeout) {\n",
       "      setTimeout(() => display_loaded(error), 100);\n",
       "    }\n",
       "  }\n",
       "\n",
       "  function run_callbacks() {\n",
       "    try {\n",
       "      root._bokeh_onload_callbacks.forEach(function(callback) {\n",
       "        if (callback != null)\n",
       "          callback();\n",
       "      });\n",
       "    } finally {\n",
       "      delete root._bokeh_onload_callbacks\n",
       "    }\n",
       "    console.debug(\"Bokeh: all callbacks have finished\");\n",
       "  }\n",
       "\n",
       "  function load_libs(css_urls, js_urls, callback) {\n",
       "    if (css_urls == null) css_urls = [];\n",
       "    if (js_urls == null) js_urls = [];\n",
       "\n",
       "    root._bokeh_onload_callbacks.push(callback);\n",
       "    if (root._bokeh_is_loading > 0) {\n",
       "      console.debug(\"Bokeh: BokehJS is being loaded, scheduling callback at\", now());\n",
       "      return null;\n",
       "    }\n",
       "    if (js_urls == null || js_urls.length === 0) {\n",
       "      run_callbacks();\n",
       "      return null;\n",
       "    }\n",
       "    console.debug(\"Bokeh: BokehJS not loaded, scheduling load and callback at\", now());\n",
       "    root._bokeh_is_loading = css_urls.length + js_urls.length;\n",
       "\n",
       "    function on_load() {\n",
       "      root._bokeh_is_loading--;\n",
       "      if (root._bokeh_is_loading === 0) {\n",
       "        console.debug(\"Bokeh: all BokehJS libraries/stylesheets loaded\");\n",
       "        run_callbacks()\n",
       "      }\n",
       "    }\n",
       "\n",
       "    function on_error(url) {\n",
       "      console.error(\"failed to load \" + url);\n",
       "    }\n",
       "\n",
       "    for (let i = 0; i < css_urls.length; i++) {\n",
       "      const url = css_urls[i];\n",
       "      const element = document.createElement(\"link\");\n",
       "      element.onload = on_load;\n",
       "      element.onerror = on_error.bind(null, url);\n",
       "      element.rel = \"stylesheet\";\n",
       "      element.type = \"text/css\";\n",
       "      element.href = url;\n",
       "      console.debug(\"Bokeh: injecting link tag for BokehJS stylesheet: \", url);\n",
       "      document.body.appendChild(element);\n",
       "    }\n",
       "\n",
       "    for (let i = 0; i < js_urls.length; i++) {\n",
       "      const url = js_urls[i];\n",
       "      const element = document.createElement('script');\n",
       "      element.onload = on_load;\n",
       "      element.onerror = on_error.bind(null, url);\n",
       "      element.async = false;\n",
       "      element.src = url;\n",
       "      console.debug(\"Bokeh: injecting script tag for BokehJS library: \", url);\n",
       "      document.head.appendChild(element);\n",
       "    }\n",
       "  };\n",
       "\n",
       "  function inject_raw_css(css) {\n",
       "    const element = document.createElement(\"style\");\n",
       "    element.appendChild(document.createTextNode(css));\n",
       "    document.body.appendChild(element);\n",
       "  }\n",
       "\n",
       "  const js_urls = [\"https://cdn.bokeh.org/bokeh/release/bokeh-3.4.3.min.js\", \"https://cdn.bokeh.org/bokeh/release/bokeh-gl-3.4.3.min.js\", \"https://cdn.bokeh.org/bokeh/release/bokeh-widgets-3.4.3.min.js\", \"https://cdn.bokeh.org/bokeh/release/bokeh-tables-3.4.3.min.js\", \"https://cdn.bokeh.org/bokeh/release/bokeh-mathjax-3.4.3.min.js\"];\n",
       "  const css_urls = [];\n",
       "\n",
       "  const inline_js = [    function(Bokeh) {\n",
       "      Bokeh.set_log_level(\"info\");\n",
       "    },\n",
       "function(Bokeh) {\n",
       "    }\n",
       "  ];\n",
       "\n",
       "  function run_inline_js() {\n",
       "    if (root.Bokeh !== undefined || force === true) {\n",
       "      try {\n",
       "            for (let i = 0; i < inline_js.length; i++) {\n",
       "      inline_js[i].call(root, root.Bokeh);\n",
       "    }\n",
       "\n",
       "      } catch (error) {display_loaded(error);throw error;\n",
       "      }if (force === true) {\n",
       "        display_loaded();\n",
       "      }} else if (Date.now() < root._bokeh_timeout) {\n",
       "      setTimeout(run_inline_js, 100);\n",
       "    } else if (!root._bokeh_failed_load) {\n",
       "      console.log(\"Bokeh: BokehJS failed to load within specified timeout.\");\n",
       "      root._bokeh_failed_load = true;\n",
       "    } else if (force !== true) {\n",
       "      const cell = $(document.getElementById(\"a6f74920-bafc-4dd6-8b7e-1bf97d6d20fc\")).parents('.cell').data().cell;\n",
       "      cell.output_area.append_execute_result(NB_LOAD_WARNING)\n",
       "    }\n",
       "  }\n",
       "\n",
       "  if (root._bokeh_is_loading === 0) {\n",
       "    console.debug(\"Bokeh: BokehJS loaded, going straight to plotting\");\n",
       "    run_inline_js();\n",
       "  } else {\n",
       "    load_libs(css_urls, js_urls, function() {\n",
       "      console.debug(\"Bokeh: BokehJS plotting callback run at\", now());\n",
       "      run_inline_js();\n",
       "    });\n",
       "  }\n",
       "}(window));"
      ],
      "application/vnd.bokehjs_load.v0+json": "'use strict';\n(function(root) {\n  function now() {\n    return new Date();\n  }\n\n  const force = true;\n\n  if (typeof root._bokeh_onload_callbacks === \"undefined\" || force === true) {\n    root._bokeh_onload_callbacks = [];\n    root._bokeh_is_loading = undefined;\n  }\n\n\n  if (typeof (root._bokeh_timeout) === \"undefined\" || force === true) {\n    root._bokeh_timeout = Date.now() + 5000;\n    root._bokeh_failed_load = false;\n  }\n\n  const NB_LOAD_WARNING = {'data': {'text/html':\n     \"<div style='background-color: #fdd'>\\n\"+\n     \"<p>\\n\"+\n     \"BokehJS does not appear to have successfully loaded. If loading BokehJS from CDN, this \\n\"+\n     \"may be due to a slow or bad network connection. Possible fixes:\\n\"+\n     \"</p>\\n\"+\n     \"<ul>\\n\"+\n     \"<li>re-rerun `output_notebook()` to attempt to load from CDN again, or</li>\\n\"+\n     \"<li>use INLINE resources instead, as so:</li>\\n\"+\n     \"</ul>\\n\"+\n     \"<code>\\n\"+\n     \"from bokeh.resources import INLINE\\n\"+\n     \"output_notebook(resources=INLINE)\\n\"+\n     \"</code>\\n\"+\n     \"</div>\"}};\n\n  function display_loaded(error = null) {\n    const el = document.getElementById(\"a6f74920-bafc-4dd6-8b7e-1bf97d6d20fc\");\n    if (el != null) {\n      const html = (() => {\n        if (typeof root.Bokeh === \"undefined\") {\n          if (error == null) {\n            return \"BokehJS is loading ...\";\n          } else {\n            return \"BokehJS failed to load.\";\n          }\n        } else {\n          const prefix = `BokehJS ${root.Bokeh.version}`;\n          if (error == null) {\n            return `${prefix} successfully loaded.`;\n          } else {\n            return `${prefix} <b>encountered errors</b> while loading and may not function as expected.`;\n          }\n        }\n      })();\n      el.innerHTML = html;\n\n      if (error != null) {\n        const wrapper = document.createElement(\"div\");\n        wrapper.style.overflow = \"auto\";\n        wrapper.style.height = \"5em\";\n        wrapper.style.resize = \"vertical\";\n        const content = document.createElement(\"div\");\n        content.style.fontFamily = \"monospace\";\n        content.style.whiteSpace = \"pre-wrap\";\n        content.style.backgroundColor = \"rgb(255, 221, 221)\";\n        content.textContent = error.stack ?? error.toString();\n        wrapper.append(content);\n        el.append(wrapper);\n      }\n    } else if (Date.now() < root._bokeh_timeout) {\n      setTimeout(() => display_loaded(error), 100);\n    }\n  }\n\n  function run_callbacks() {\n    try {\n      root._bokeh_onload_callbacks.forEach(function(callback) {\n        if (callback != null)\n          callback();\n      });\n    } finally {\n      delete root._bokeh_onload_callbacks\n    }\n    console.debug(\"Bokeh: all callbacks have finished\");\n  }\n\n  function load_libs(css_urls, js_urls, callback) {\n    if (css_urls == null) css_urls = [];\n    if (js_urls == null) js_urls = [];\n\n    root._bokeh_onload_callbacks.push(callback);\n    if (root._bokeh_is_loading > 0) {\n      console.debug(\"Bokeh: BokehJS is being loaded, scheduling callback at\", now());\n      return null;\n    }\n    if (js_urls == null || js_urls.length === 0) {\n      run_callbacks();\n      return null;\n    }\n    console.debug(\"Bokeh: BokehJS not loaded, scheduling load and callback at\", now());\n    root._bokeh_is_loading = css_urls.length + js_urls.length;\n\n    function on_load() {\n      root._bokeh_is_loading--;\n      if (root._bokeh_is_loading === 0) {\n        console.debug(\"Bokeh: all BokehJS libraries/stylesheets loaded\");\n        run_callbacks()\n      }\n    }\n\n    function on_error(url) {\n      console.error(\"failed to load \" + url);\n    }\n\n    for (let i = 0; i < css_urls.length; i++) {\n      const url = css_urls[i];\n      const element = document.createElement(\"link\");\n      element.onload = on_load;\n      element.onerror = on_error.bind(null, url);\n      element.rel = \"stylesheet\";\n      element.type = \"text/css\";\n      element.href = url;\n      console.debug(\"Bokeh: injecting link tag for BokehJS stylesheet: \", url);\n      document.body.appendChild(element);\n    }\n\n    for (let i = 0; i < js_urls.length; i++) {\n      const url = js_urls[i];\n      const element = document.createElement('script');\n      element.onload = on_load;\n      element.onerror = on_error.bind(null, url);\n      element.async = false;\n      element.src = url;\n      console.debug(\"Bokeh: injecting script tag for BokehJS library: \", url);\n      document.head.appendChild(element);\n    }\n  };\n\n  function inject_raw_css(css) {\n    const element = document.createElement(\"style\");\n    element.appendChild(document.createTextNode(css));\n    document.body.appendChild(element);\n  }\n\n  const js_urls = [\"https://cdn.bokeh.org/bokeh/release/bokeh-3.4.3.min.js\", \"https://cdn.bokeh.org/bokeh/release/bokeh-gl-3.4.3.min.js\", \"https://cdn.bokeh.org/bokeh/release/bokeh-widgets-3.4.3.min.js\", \"https://cdn.bokeh.org/bokeh/release/bokeh-tables-3.4.3.min.js\", \"https://cdn.bokeh.org/bokeh/release/bokeh-mathjax-3.4.3.min.js\"];\n  const css_urls = [];\n\n  const inline_js = [    function(Bokeh) {\n      Bokeh.set_log_level(\"info\");\n    },\nfunction(Bokeh) {\n    }\n  ];\n\n  function run_inline_js() {\n    if (root.Bokeh !== undefined || force === true) {\n      try {\n            for (let i = 0; i < inline_js.length; i++) {\n      inline_js[i].call(root, root.Bokeh);\n    }\n\n      } catch (error) {display_loaded(error);throw error;\n      }if (force === true) {\n        display_loaded();\n      }} else if (Date.now() < root._bokeh_timeout) {\n      setTimeout(run_inline_js, 100);\n    } else if (!root._bokeh_failed_load) {\n      console.log(\"Bokeh: BokehJS failed to load within specified timeout.\");\n      root._bokeh_failed_load = true;\n    } else if (force !== true) {\n      const cell = $(document.getElementById(\"a6f74920-bafc-4dd6-8b7e-1bf97d6d20fc\")).parents('.cell').data().cell;\n      cell.output_area.append_execute_result(NB_LOAD_WARNING)\n    }\n  }\n\n  if (root._bokeh_is_loading === 0) {\n    console.debug(\"Bokeh: BokehJS loaded, going straight to plotting\");\n    run_inline_js();\n  } else {\n    load_libs(css_urls, js_urls, function() {\n      console.debug(\"Bokeh: BokehJS plotting callback run at\", now());\n      run_inline_js();\n    });\n  }\n}(window));"
     },
     "metadata": {},
     "output_type": "display_data"
    }
   ],
   "source": [
    "import hail as hl"
   ]
  },
  {
   "cell_type": "code",
   "execution_count": 4,
   "id": "b58c184f",
   "metadata": {
    "scrolled": true
   },
   "outputs": [
    {
     "name": "stderr",
     "output_type": "stream",
     "text": [
      "Running on Apache Spark version 3.5.5\n",
      "SparkUI available at http://172.16.0.135:4041\n",
      "Welcome to\n",
      "     __  __     <>__\n",
      "    / /_/ /__  __/ /\n",
      "   / __  / _ `/ / /\n",
      "  /_/ /_/\\_,_/_/_/   version 0.2.134-952ae203dbbe\n",
      "LOGGING: writing to /home/julia/Documents/thesis/scripts/hail-20250504-1448-0.2.134-952ae203dbbe.log\n",
      "2025-05-04 14:48:31.225 Hail: INFO: Reading table without type imputation\n",
      "  Loading field 'ID' as type str (user-supplied)\n",
      "  Loading field 'sex' as type str (user-supplied)\n",
      "  Loading field 'profile' as type str (not specified)\n",
      "2025-05-04 14:51:33.662 Hail: WARN: Filtered with contig 'MT', but 'MT' is not a valid contig in reference genome GRCh38\n",
      "2025-05-04 14:51:37.459 Hail: INFO: scanning VCF for sortedness...\n",
      "2025-05-04 14:51:53.982 Hail: INFO: Coerced sorted VCF - no additional import work to do\n",
      "2025-05-04 14:51:54.050 Hail: INFO: scanning VCF for sortedness...\n",
      "2025-05-04 14:52:09.533 Hail: INFO: Coerced sorted VCF - no additional import work to do\n",
      "2025-05-04 14:52:09.616 Hail: INFO: scanning VCF for sortedness...\n",
      "2025-05-04 14:52:24.910 Hail: INFO: Coerced sorted VCF - no additional import work to do\n",
      "2025-05-04 14:52:24.952 Hail: INFO: scanning VCF for sortedness...\n",
      "2025-05-04 14:52:40.007 Hail: INFO: Coerced sorted VCF - no additional import work to do\n",
      "2025-05-04 14:52:40.050 Hail: INFO: scanning VCF for sortedness...\n",
      "2025-05-04 14:52:55.182 Hail: INFO: Coerced sorted VCF - no additional import work to do\n",
      "2025-05-04 21:01:20.354 Hail: INFO: Reading table without type imputation\n",
      "  Loading field '' as type str (not specified)\n",
      "  Loading field 'ID' as type str (user-supplied)\n",
      "  Loading field 'sex' as type str (user-supplied)\n",
      "2025-05-04 21:08:53.379 Hail: WARN: Hail has already been initialized. If this call was intended to change configuration, close the session with hl.stop() first.\n",
      "2025-05-04 21:10:18.273 Hail: WARN: Hail has already been initialized. If this call was intended to change configuration, close the session with hl.stop() first.\n",
      "2025-05-04 21:10:28.488 Hail: WARN: Hail has already been initialized. If this call was intended to change configuration, close the session with hl.stop() first.\n",
      "2025-05-04 21:12:50.748 Hail: WARN: Hail has already been initialized. If this call was intended to change configuration, close the session with hl.stop() first.\n",
      "2025-05-04 21:13:34.822 Hail: WARN: Hail has already been initialized. If this call was intended to change configuration, close the session with hl.stop() first.\n",
      "2025-05-04 21:13:52.181 Hail: WARN: Hail has already been initialized. If this call was intended to change configuration, close the session with hl.stop() first.\n",
      "2025-05-04 21:18:35.428 Hail: WARN: Hail has already been initialized. If this call was intended to change configuration, close the session with hl.stop() first.\n",
      "2025-05-04 21:18:42.957 Hail: WARN: Hail has already been initialized. If this call was intended to change configuration, close the session with hl.stop() first.\n",
      "2025-05-04 21:18:48.272 Hail: WARN: Hail has already been initialized. If this call was intended to change configuration, close the session with hl.stop() first.\n",
      "2025-05-04 21:19:11.204 Hail: WARN: Hail has already been initialized. If this call was intended to change configuration, close the session with hl.stop() first.\n",
      "2025-05-04 21:22:40.128 Hail: WARN: Hail has already been initialized. If this call was intended to change configuration, close the session with hl.stop() first.\n"
     ]
    }
   ],
   "source": [
    "hl.init()\n",
    "hl.default_reference('GRCh38')"
   ]
  },
  {
   "cell_type": "code",
   "execution_count": 69,
   "id": "edabca4d-5960-4728-9bad-c9a82a3977e2",
   "metadata": {},
   "outputs": [],
   "source": [
    "hl.stop()"
   ]
  },
  {
   "cell_type": "code",
   "execution_count": 70,
   "id": "b254d1b4-0f19-4bb9-8a61-e864942f03fb",
   "metadata": {},
   "outputs": [
    {
     "name": "stderr",
     "output_type": "stream",
     "text": [
      "Running on Apache Spark version 3.5.5\n",
      "SparkUI available at http://172.16.0.135:4041\n",
      "Welcome to\n",
      "     __  __     <>__\n",
      "    / /_/ /__  __/ /\n",
      "   / __  / _ `/ / /\n",
      "  /_/ /_/\\_,_/_/_/   version 0.2.134-952ae203dbbe\n",
      "LOGGING: writing to /tmp/hail.log\n"
     ]
    }
   ],
   "source": [
    "hl.init(\n",
    "    master=\"local[58]\",  # Используем 16 ядер из ~32 (оставляем ресурсы для системы)\n",
    "    spark_conf={\n",
    "        # Память\n",
    "        \"spark.driver.memory\": \"64G\",          # Главный процесс\n",
    "        \"spark.executor.memory\": \"48G\",        # Рабочие процессы\n",
    "        \"spark.memory.fraction\": \"0.8\",        # Доля памяти для Spark (остальное - буфер)\n",
    "        \n",
    "        # Параллелизм\n",
    "        \"spark.sql.shuffle.partitions\": \"400\", # Для операций JOIN/GROUP BY\n",
    "        \"spark.default.parallelism\": \"200\",     # Дефолтный уровень параллелизма\n",
    "        \n",
    "        # Настройки для больших данных\n",
    "        \"spark.driver.maxResultSize\": \"8G\",    # Макс. размер возвращаемых данных\n",
    "        \"spark.kryoserializer.buffer.max\": \"1G\",# Сериализация больших объектов\n",
    "        \"spark.network.timeout\": \"600s\",       # Таймауты для тяжелых задач\n",
    "        \n",
    "        # Оптимизация Hail\n",
    "        \"spark.hadoop.mapreduce.input.fileinputformat.split.minsize\": \"134217728\"  # 128MB (размер партиций)\n",
    "    },\n",
    "    log=\"/tmp/hail.log\"\n",
    ")"
   ]
  },
  {
   "cell_type": "code",
   "execution_count": 71,
   "id": "e99f101b-f96c-4de4-b10b-85907223ef8f",
   "metadata": {},
   "outputs": [],
   "source": [
    "hl.default_reference('GRCh38')"
   ]
  },
  {
   "cell_type": "code",
   "execution_count": 72,
   "id": "c0d6c2ce",
   "metadata": {},
   "outputs": [],
   "source": [
    "import glob\n",
    "import os"
   ]
  },
  {
   "cell_type": "code",
   "execution_count": 92,
   "id": "5a296037",
   "metadata": {},
   "outputs": [],
   "source": [
    "# конфигурация\n",
    "\n",
    "VCF_DIR = '/home/julia/Downloads/genomes/links/'  # папка с VCF\n",
    "VCF_DIR_NEW = '/home/julia/Downloads/genomes/new/' # папка с VCF для добавления\n",
    "# SEX_TABLE_PATH = '/home/julia/Downloads/gnomADru/sids.csv' # файл с полом\n",
    "SEX_TABLE_PATH = '/home/julia/Downloads/genomes/links/info.csv' # файл с полом\n",
    "BASE_DATA_PATH = '/home/julia/Downloads/genomes/cache/combined.mt' # первый пул данных\n",
    "AF_PATH = '/home/julia/Downloads/genomes/cache/af.tsv'"
   ]
  },
  {
   "cell_type": "code",
   "execution_count": null,
   "id": "a627524b",
   "metadata": {},
   "outputs": [],
   "source": [
    "# старые файлы\n",
    "\n",
    "vcf_files = glob.glob(VCF_DIR + '*.vcf.gz')\n",
    "print(vcf_files)"
   ]
  },
  {
   "cell_type": "code",
   "execution_count": 76,
   "id": "4f0f9866",
   "metadata": {},
   "outputs": [
    {
     "name": "stdout",
     "output_type": "stream",
     "text": [
      "['/home/julia/Downloads/genomes/new/000007029510.vcf.gz', '/home/julia/Downloads/genomes/new/000007029520.vcf.gz', '/home/julia/Downloads/genomes/new/000007029530.vcf.gz', '/home/julia/Downloads/genomes/new/000007030390.vcf.gz']\n"
     ]
    }
   ],
   "source": [
    "# новые файлы\n",
    "new_vcf_files = glob.glob(VCF_DIR_NEW + '*.vcf.gz')\n",
    "print(new_vcf_files)"
   ]
  },
  {
   "cell_type": "code",
   "execution_count": 77,
   "id": "503e1d54",
   "metadata": {},
   "outputs": [],
   "source": [
    "# добавление пола\n",
    "\n",
    "def set_sex(mt, sex_table):\n",
    "    # преобразуем пол в is_female (True для 'ж'/'f')\n",
    "    sex_table = sex_table.annotate(\n",
    "        is_female = (\n",
    "            (sex_table.sex.lower() == 'ж') | \n",
    "            (sex_table.sex.lower() == 'f')\n",
    "        )\n",
    "    )\n",
    "    \n",
    "    # добавляем is_female к образцам (простое соединение)\n",
    "    mt = mt.annotate_cols(\n",
    "        is_female = sex_table[mt.s].is_female  # mt.s - ID образца\n",
    "    )\n",
    "\n",
    "    return mt"
   ]
  },
  {
   "cell_type": "code",
   "execution_count": 78,
   "id": "2e54f77c-5b8d-420e-8909-75a7549e79bd",
   "metadata": {},
   "outputs": [],
   "source": [
    "# нормализация гемизигот у мужчин и МХ у всех\n",
    "\n",
    "def normalize_ploidy(mt):\n",
    "    return mt.annotate_entries(\n",
    "        GT = hl.case()\n",
    "            # Митохондриальная ДНК (гаплоидная у всех)\n",
    "            .when(mt.locus.contig == \"chrM\",\n",
    "                hl.if_else(\n",
    "                    mt.GT.is_hom_ref(),\n",
    "                    hl.call(0),\n",
    "                    hl.if_else(\n",
    "                        mt.GT.is_hom_var(),\n",
    "                        hl.call(1),\n",
    "                        hl.if_else(\n",
    "                            (mt.VAF[0] > 0.3) | (mt.VAF[1] > 0.3),  # Учитываем оба аллеля\n",
    "                            hl.call(1),\n",
    "                            hl.call(0)\n",
    "                        )\n",
    "                    )\n",
    "                )\n",
    "            )\n",
    "            # Гемизиготные участки у мужчин (X/Y)\n",
    "            .when((~mt.is_female) & ((mt.locus.contig == \"chrX\") | (mt.locus.contig == \"chrY\")),\n",
    "                hl.if_else(\n",
    "                    mt.GT.is_hom_ref(),\n",
    "                    hl.call(0),\n",
    "                    hl.if_else(\n",
    "                        mt.GT.is_hom_var(),\n",
    "                        hl.call(1),\n",
    "                        hl.if_else(\n",
    "                            mt.VAF[0] > 0.3,\n",
    "                            hl.call(1),\n",
    "                            hl.call(0)\n",
    "                        )\n",
    "                    )\n",
    "                )\n",
    "            )\n",
    "            # Все остальные случаи (аутосомы, X у женщин)\n",
    "            .default(mt.GT)\n",
    "    )"
   ]
  },
  {
   "cell_type": "code",
   "execution_count": 79,
   "id": "a73f99f3",
   "metadata": {},
   "outputs": [],
   "source": [
    "# нормализация гемизигот у мужчин\n",
    "\n",
    "def gemizygote_normalize(mt):\n",
    "    return mt.annotate_entries(\n",
    "        GT = hl.if_else(\n",
    "            (~mt.is_female) & ((mt.locus.contig == \"chrX\") | (mt.locus.contig == \"chrY\")),\n",
    "            hl.if_else(\n",
    "                mt.GT.is_hom_ref(),  # гомозигота по REF 0/0 → 0\n",
    "                hl.call(0),\n",
    "                hl.if_else(\n",
    "                    mt.GT.is_hom_var(),  # гомозигота по ALT 1/1 → 1\n",
    "                    hl.call(1),\n",
    "                    hl.if_else(\n",
    "                        mt.VAF[0] > 0.3,  # для гетерозигот - если VAF > 30% → 1 считаем гомозиготой по ALT\n",
    "                        hl.call(1),\n",
    "                        hl.call(0)     # иначе → 0 считаем гомозиготой по REF\n",
    "                    )\n",
    "                )\n",
    "            ),\n",
    "            mt.GT  # Для женщин и аутосом оставляем без изменений\n",
    "        )\n",
    "    )"
   ]
  },
  {
   "cell_type": "code",
   "execution_count": 80,
   "id": "504d612b",
   "metadata": {},
   "outputs": [],
   "source": [
    "# фильтрация по глубине\n",
    "\n",
    "def filter_variants_by_DP(combined_mt_all, dp):\n",
    "\n",
    "    # отсекаем варианты, если нет ни одного образца с DP больше порога\n",
    "    filtered_mt = combined_mt_all.filter_rows(\n",
    "        hl.agg.count_where(\n",
    "            (hl.is_defined(combined_mt_all.DP)) & \n",
    "            (combined_mt_all.DP >= dp)\n",
    "        ) >= 1\n",
    "    )\n",
    "\n",
    "    # корректируем генотипы - варианты с DP меньше порога исключаем из расчёта частот, помечая как NA\n",
    "    return filtered_mt.annotate_entries(\n",
    "        GT = hl.if_else(\n",
    "            (hl.is_defined(filtered_mt.DP)) & \n",
    "            (filtered_mt.DP >= dp),\n",
    "            filtered_mt.GT,\n",
    "            hl.missing(hl.tcall)\n",
    "        )\n",
    "    )\n"
   ]
  },
  {
   "cell_type": "code",
   "execution_count": 81,
   "id": "4f5d6be3",
   "metadata": {},
   "outputs": [],
   "source": [
    "#препроцессинг до фильтрации включительно\n",
    "\n",
    "def preprocessing(vcf_files, sex_table):\n",
    "    # комбайн\n",
    "    mts_all = []\n",
    "    for vcf in vcf_files: \n",
    "        mt = hl.import_vcf(vcf, force_bgz=True, array_elements_required=False)\n",
    "        mt = set_sex(mt, sex_table)\n",
    "        # mt = gemizygote_normalize(mt)\n",
    "        mt = normalize_ploidy(mt)\n",
    "        mts_all.append(mt)\n",
    "\n",
    "    # Объединение MatrixTable по колонкам (образцам)\n",
    "    combined_mt_all = mts_all[0]\n",
    "    if len(mts_all) > 1:\n",
    "        for mt in mts_all[1:]:\n",
    "            combined_mt_all = combined_mt_all.union_cols(mt, row_join_type='outer')\n",
    "\n",
    "    #фильтрация по глубине\n",
    "    return filter_variants_by_DP(combined_mt_all, 3)"
   ]
  },
  {
   "cell_type": "code",
   "execution_count": 82,
   "id": "91cd7b8c",
   "metadata": {},
   "outputs": [],
   "source": [
    "# расчёт частот - 4 версия.попытаться ускорить.пока ориентировочно лучший вариант\n",
    "\n",
    "def mt_AF_calculated(mt):\n",
    "    freq_mt_all = mt.annotate_rows(\n",
    "    call_stats=hl.agg.call_stats(mt.GT, mt.alleles)\n",
    "    )\n",
    "\n",
    "    # извлечение частот аллелей\n",
    "    return freq_mt_all.annotate_rows(\n",
    "        allele_frequencies=freq_mt_all.call_stats.AF  # AF — это массив частот аллелей, включая мультиаллели\n",
    "    )"
   ]
  },
  {
   "cell_type": "markdown",
   "id": "395d0731",
   "metadata": {},
   "source": [
    "## Пайплайн с добавлением новых данных - отсюда и до конца"
   ]
  },
  {
   "cell_type": "code",
   "execution_count": 83,
   "id": "8cb90393",
   "metadata": {},
   "outputs": [],
   "source": [
    "# определение пола\n",
    "sex_table = hl.import_table(SEX_TABLE_PATH,\n",
    "        delimiter=',',\n",
    "        types={'ID': hl.tstr, 'sex': hl.tstr},\n",
    "        key='ID'\n",
    "    )"
   ]
  },
  {
   "cell_type": "code",
   "execution_count": 84,
   "id": "38dcd3cb",
   "metadata": {},
   "outputs": [
    {
     "name": "stdout",
     "output_type": "stream",
     "text": [
      "996\n"
     ]
    }
   ],
   "source": [
    "# vcf_files = new_vcf_files + vcf_files\n",
    "# print(vcf_files)\n",
    "print(len(vcf_files))"
   ]
  },
  {
   "cell_type": "code",
   "execution_count": 85,
   "id": "604b4b4e",
   "metadata": {},
   "outputs": [
    {
     "name": "stdout",
     "output_type": "stream",
     "text": [
      "CPU times: user 49.3 s, sys: 1.26 s, total: 50.6 s\n",
      "Wall time: 1min 5s\n"
     ]
    }
   ],
   "source": [
    "%%time\n",
    "\n",
    "# препроцессинг данных\n",
    "data = preprocessing(vcf_files, sex_table)\n",
    "\n",
    "#16 образцов\n",
    "#CPU times: user 774 ms, sys: 14.8 ms, total: 789 ms\n",
    "#Wall time: 1.74 s\n",
    "\n",
    "#996\n",
    "#CPU times: user 49.3 s, sys: 1.26 s, total: 50.6 s\n",
    "#Wall time: 1min 5s"
   ]
  },
  {
   "cell_type": "code",
   "execution_count": 86,
   "id": "54cd7590-6a43-4cce-b056-f609d21f4b08",
   "metadata": {},
   "outputs": [
    {
     "name": "stdout",
     "output_type": "stream",
     "text": [
      "CPU times: user 16.9 ms, sys: 832 μs, total: 17.7 ms\n",
      "Wall time: 17.5 ms\n"
     ]
    }
   ],
   "source": [
    "%%time\n",
    "\n",
    "# расчёт частот\n",
    "data_af = mt_AF_calculated(data)\n",
    "\n",
    "#16 образцов\n",
    "#CPU times: user 21.2 ms, sys: 2.73 ms, total: 23.9 ms\n",
    "#Wall time: 21.6 ms"
   ]
  },
  {
   "cell_type": "code",
   "execution_count": 89,
   "id": "9fdef55f",
   "metadata": {},
   "outputs": [
    {
     "name": "stdout",
     "output_type": "stream",
     "text": [
      "----------------------------------------\n",
      "Global fields:\n",
      "    None\n",
      "----------------------------------------\n",
      "Column fields:\n",
      "    's': str\n",
      "    'is_female': bool\n",
      "----------------------------------------\n",
      "Row fields:\n",
      "    'locus': locus<GRCh38>\n",
      "    'alleles': array<str>\n",
      "    'rsid': str\n",
      "    'qual': float64\n",
      "    'filters': set<str>\n",
      "    'info': struct {\n",
      "        END: int32\n",
      "    }\n",
      "    'call_stats': struct {\n",
      "        AC: array<int32>, \n",
      "        AF: array<float64>, \n",
      "        AN: int32, \n",
      "        homozygote_count: array<int32>\n",
      "    }\n",
      "    'allele_frequencies': array<float64>\n",
      "----------------------------------------\n",
      "Entry fields:\n",
      "    'GT': call\n",
      "    'GQ': int32\n",
      "    'DP': int32\n",
      "    'MIN_DP': int32\n",
      "    'AD': array<int32>\n",
      "    'VAF': array<float64>\n",
      "    'PL': array<int32>\n",
      "    'MED_DP': int32\n",
      "----------------------------------------\n",
      "Column key: ['s']\n",
      "Row key: ['locus', 'alleles']\n",
      "----------------------------------------\n"
     ]
    }
   ],
   "source": [
    "data_af.describe()"
   ]
  },
  {
   "cell_type": "code",
   "execution_count": null,
   "id": "c41eb31c",
   "metadata": {},
   "outputs": [],
   "source": [
    "data_af.count()"
   ]
  },
  {
   "cell_type": "code",
   "execution_count": null,
   "id": "98b39970-05c9-4be5-8a10-ccc13f0ff8a8",
   "metadata": {},
   "outputs": [],
   "source": []
  },
  {
   "cell_type": "code",
   "execution_count": 90,
   "id": "b6f1ff40-f6f4-4b7a-b1fd-8262660ef48f",
   "metadata": {},
   "outputs": [],
   "source": [
    "def make_af_table(data_af):\n",
    "    filtered_mt = data_af.select_entries('DP', 'AD') \\\n",
    "                   .select_rows('rsid', 'allele_frequencies')\n",
    "    return filtered_mt"
   ]
  },
  {
   "cell_type": "code",
   "execution_count": 91,
   "id": "357c1c6d-5b63-4c0a-b833-b17278c62ef3",
   "metadata": {},
   "outputs": [
    {
     "name": "stdout",
     "output_type": "stream",
     "text": [
      "CPU times: user 11.8 ms, sys: 0 ns, total: 11.8 ms\n",
      "Wall time: 11.3 ms\n"
     ]
    }
   ],
   "source": [
    "%%time\n",
    "\n",
    "af = make_af_table(data_af)\n",
    "\n",
    "# 16 образцов\n",
    "# CPU times: user 16.1 ms, sys: 142 μs, total: 16.3 ms\n",
    "# Wall time: 15.9 ms\n",
    "\n",
    "# 996 образцов\n",
    "#CPU times: user 11.8 ms, sys: 0 ns, total: 11.8 ms\n",
    "# Wall time: 11.3 ms"
   ]
  },
  {
   "cell_type": "code",
   "execution_count": null,
   "id": "3b48c7b5-dacb-44bc-8ac4-d73e0d8f9201",
   "metadata": {},
   "outputs": [],
   "source": []
  },
  {
   "cell_type": "code",
   "execution_count": null,
   "id": "850d4d54-598d-44e9-8548-4d7a4cd9a99b",
   "metadata": {},
   "outputs": [],
   "source": [
    "%%time\n",
    "af.write(AF_PATH, overwrite=True)"
   ]
  },
  {
   "cell_type": "code",
   "execution_count": null,
   "id": "b2270354-33db-4e2a-905a-2287163fb21d",
   "metadata": {},
   "outputs": [],
   "source": []
  },
  {
   "cell_type": "code",
   "execution_count": 93,
   "id": "8ebd3e74-99cd-48df-b83e-5750378fa02d",
   "metadata": {},
   "outputs": [
    {
     "ename": "AttributeError",
     "evalue": "'ArrayNumericExpression' object has no attribute 'get'",
     "output_type": "error",
     "traceback": [
      "\u001b[31m---------------------------------------------------------------------------\u001b[39m",
      "\u001b[31mAttributeError\u001b[39m                            Traceback (most recent call last)",
      "\u001b[36mFile \u001b[39m\u001b[32m<timed exec>:30\u001b[39m\n",
      "\u001b[36mFile \u001b[39m\u001b[32m<timed exec>:13\u001b[39m, in \u001b[36msave_tsv\u001b[39m\u001b[34m(data_af)\u001b[39m\n",
      "\u001b[31mAttributeError\u001b[39m: 'ArrayNumericExpression' object has no attribute 'get'"
     ]
    }
   ],
   "source": [
    "%%time\n",
    "\n",
    "# Выбираем нужные поля\n",
    "def save_tsv(data_af):\n",
    "    filtered_mt = data_af.select_entries('DP', 'AD') \\\n",
    "                   .select_rows('rsid', 'allele_frequencies')\n",
    "    \n",
    "    # 1. Создаем таблицу с плоской структурой\n",
    "    table_to_export = filtered_mt.entries()\n",
    "    \n",
    "    # 2. Распаковываем вложенные поля (если нужно)\n",
    "    table_to_export = table_to_export.annotate(\n",
    "        AD_ref=table_to_export.AD[0],\n",
    "        AD_alt=table_to_export.AD[1],\n",
    "        AF=table_to_export.allele_frequencies.get('AF')\n",
    "    )\n",
    "    \n",
    "    # 3. Выбираем только нужные колонки для экспорта\n",
    "    table_to_export = table_to_export.select(\n",
    "        'rsid',\n",
    "        'locus',\n",
    "        'alleles',\n",
    "        'DP',\n",
    "        'AD_ref',\n",
    "        'AD_alt',\n",
    "        'AF'\n",
    "    )\n",
    "    \n",
    "    # 4. Экспортируем в TSV\n",
    "    table_to_export.export(AF_PATH)\n",
    "    \n",
    "save_tsv(data_af)"
   ]
  },
  {
   "cell_type": "code",
   "execution_count": 44,
   "id": "df4b0fbb-b517-4e81-a529-8ef87ab5c3b4",
   "metadata": {},
   "outputs": [
    {
     "name": "stdout",
     "output_type": "stream",
     "text": [
      "----------------------------------------\n",
      "Global fields:\n",
      "    None\n",
      "----------------------------------------\n",
      "Column fields:\n",
      "    's': str\n",
      "    'is_female': bool\n",
      "----------------------------------------\n",
      "Row fields:\n",
      "    'locus': locus<GRCh38>\n",
      "    'alleles': array<str>\n",
      "    'rsid': str\n",
      "    'allele_frequencies': array<float64>\n",
      "----------------------------------------\n",
      "Entry fields:\n",
      "    'DP': int32\n",
      "    'AD': array<int32>\n",
      "----------------------------------------\n",
      "Column key: ['s']\n",
      "Row key: ['locus', 'alleles']\n",
      "----------------------------------------\n"
     ]
    }
   ],
   "source": [
    "af.describe()"
   ]
  },
  {
   "cell_type": "code",
   "execution_count": null,
   "id": "858aafea-0053-4d7b-9907-0ebd632acfd4",
   "metadata": {},
   "outputs": [],
   "source": []
  },
  {
   "cell_type": "code",
   "execution_count": 45,
   "id": "c83a3f20-0630-4c20-9ccc-d278754d7907",
   "metadata": {},
   "outputs": [
    {
     "name": "stderr",
     "output_type": "stream",
     "text": [
      "[Stage 19:==============================================>           (4 + 1) / 5]"
     ]
    },
    {
     "data": {
      "text/plain": [
       "(10918244, 6)"
      ]
     },
     "execution_count": 45,
     "metadata": {},
     "output_type": "execute_result"
    }
   ],
   "source": [
    "af.count()"
   ]
  },
  {
   "cell_type": "code",
   "execution_count": null,
   "id": "3c0b2afb-882b-4753-96d1-5ae63322001f",
   "metadata": {},
   "outputs": [],
   "source": [
    "final_af = combined_mt.filter_rows(\n",
    "    (combined_mt.locus.contig == \"22\") & \n",
    "    (combined_mt.locus.position == 50808270)\n",
    ")\n",
    "\n",
    "final_af.rows().show()"
   ]
  },
  {
   "cell_type": "code",
   "execution_count": 40,
   "id": "62989db6-613a-4ee0-bf8f-8de213632a74",
   "metadata": {},
   "outputs": [
    {
     "name": "stderr",
     "output_type": "stream",
     "text": [
      "Exception in thread \"RemoteBlock-temp-file-clean-thread\" java.lang.OutOfMemoryError: Java heap space\n",
      "\tat org.apache.spark.storage.BlockManager$RemoteBlockDownloadFileManager$$Lambda$985/0x0000000100489040.get$Lambda(Unknown Source)\n",
      "\tat java.base/java.lang.invoke.DirectMethodHandle$Holder.invokeStatic(DirectMethodHandle$Holder)\n",
      "\tat java.base/java.lang.invoke.Invokers$Holder.linkToTargetMethod(Invokers$Holder)\n",
      "\tat org.apache.spark.storage.BlockManager$RemoteBlockDownloadFileManager.org$apache$spark$storage$BlockManager$RemoteBlockDownloadFileManager$$keepCleaning(BlockManager.scala:2228)\n",
      "\tat org.apache.spark.storage.BlockManager$RemoteBlockDownloadFileManager$$anon$2.run(BlockManager.scala:2194)\n"
     ]
    }
   ],
   "source": [
    "hl.stop()"
   ]
  },
  {
   "cell_type": "code",
   "execution_count": 22,
   "id": "21c22f65-56ce-420a-8bd9-8e8df2e81b77",
   "metadata": {},
   "outputs": [
    {
     "name": "stderr",
     "output_type": "stream",
     "text": [
      "[Stage 36:=============================>                            (1 + 1) / 2]"
     ]
    }
   ],
   "source": [
    "def check_ploidy(mt, contig):\n",
    "    contig_mt = mt.filter_rows(mt.locus.contig == contig)\n",
    "    return contig_mt.aggregate_entries(\n",
    "        hl.struct(\n",
    "            hom_ref=hl.agg.count_where(contig_mt.GT.is_hom_ref()),\n",
    "            hom_alt=hl.agg.count_where(contig_mt.GT.is_hom_var()),\n",
    "            het=hl.agg.count_where(contig_mt.GT.is_het()),\n",
    "            missing=hl.agg.count_where(hl.is_missing(contig_mt.GT))\n",
    "    ))\n",
    "\n",
    "# Проверка для MT, X, Y и аутосомы\n",
    "contigs_to_check = [\"chrM\", \"chrX\", \"chrY\", \"chr1\"]\n",
    "results = {contig: check_ploidy(data_af, contig) for contig in contigs_to_check}"
   ]
  },
  {
   "cell_type": "code",
   "execution_count": 23,
   "id": "5e5b997a-e096-4bb9-a6d5-49c9f1a483df",
   "metadata": {},
   "outputs": [
    {
     "name": "stdout",
     "output_type": "stream",
     "text": [
      "{'chrM': Struct(hom_ref=3, hom_alt=137, het=0, missing=340), 'chrX': Struct(hom_ref=86928, hom_alt=505736, het=89489, missing=1012582), 'chrY': Struct(hom_ref=93869, hom_alt=24713, het=1447, missing=259546), 'chr1': Struct(hom_ref=150792, hom_alt=761510, het=1051723, missing=2406045)}\n"
     ]
    }
   ],
   "source": [
    "print(results)"
   ]
  },
  {
   "cell_type": "code",
   "execution_count": 27,
   "id": "c7ee3d6c-d451-4e35-88ad-c12bce29a012",
   "metadata": {},
   "outputs": [
    {
     "name": "stderr",
     "output_type": "stream",
     "text": [
      "[Stage 43:>                                                         (0 + 1) / 1]"
     ]
    },
    {
     "data": {
      "text/html": [
       "<table><thead><tr><td style=\"white-space: nowrap; max-width: 500px; overflow: hidden; text-overflow: ellipsis; \" colspan=\"1\"><div style=\"text-align: left;\"></div></td><td style=\"white-space: nowrap; max-width: 500px; overflow: hidden; text-overflow: ellipsis; \" colspan=\"1\"><div style=\"text-align: left;\"></div></td><td style=\"white-space: nowrap; max-width: 500px; overflow: hidden; text-overflow: ellipsis; \" colspan=\"1\"><div style=\"text-align: left;\"></div></td><td style=\"white-space: nowrap; max-width: 500px; overflow: hidden; text-overflow: ellipsis; \" colspan=\"1\"><div style=\"text-align: left;\"></div></td><td style=\"white-space: nowrap; max-width: 500px; overflow: hidden; text-overflow: ellipsis; \" colspan=\"1\"><div style=\"text-align: left;\"></div></td><td style=\"white-space: nowrap; max-width: 500px; overflow: hidden; text-overflow: ellipsis; \" colspan=\"1\"><div style=\"text-align: left;\"></div></td></tr><tr><td style=\"white-space: nowrap; max-width: 500px; overflow: hidden; text-overflow: ellipsis; \" colspan=\"1\"><div style=\"text-align: left;\"></div></td><td style=\"white-space: nowrap; max-width: 500px; overflow: hidden; text-overflow: ellipsis; \" colspan=\"1\"><div style=\"text-align: left;\"></div></td><td style=\"white-space: nowrap; max-width: 500px; overflow: hidden; text-overflow: ellipsis; \" colspan=\"1\"><div style=\"text-align: left;border-bottom: solid 2px #000; padding-bottom: 5px\">&#x27;000007000020&#x27;</div></td><td style=\"white-space: nowrap; max-width: 500px; overflow: hidden; text-overflow: ellipsis; \" colspan=\"1\"><div style=\"text-align: left;border-bottom: solid 2px #000; padding-bottom: 5px\">&#x27;000007000040&#x27;</div></td><td style=\"white-space: nowrap; max-width: 500px; overflow: hidden; text-overflow: ellipsis; \" colspan=\"1\"><div style=\"text-align: left;border-bottom: solid 2px #000; padding-bottom: 5px\">&#x27;000007000070&#x27;</div></td><td style=\"white-space: nowrap; max-width: 500px; overflow: hidden; text-overflow: ellipsis; \" colspan=\"1\"><div style=\"text-align: left;border-bottom: solid 2px #000; padding-bottom: 5px\">&#x27;000007000030&#x27;</div></td></tr><tr><td style=\"white-space: nowrap; max-width: 500px; overflow: hidden; text-overflow: ellipsis; \" colspan=\"1\"><div style=\"text-align: left;border-bottom: solid 2px #000; padding-bottom: 5px\">locus</div></td><td style=\"white-space: nowrap; max-width: 500px; overflow: hidden; text-overflow: ellipsis; \" colspan=\"1\"><div style=\"text-align: left;border-bottom: solid 2px #000; padding-bottom: 5px\">alleles</div></td><td style=\"white-space: nowrap; max-width: 500px; overflow: hidden; text-overflow: ellipsis; \" colspan=\"1\"><div style=\"text-align: left;border-bottom: solid 2px #000; padding-bottom: 5px\">GT</div></td><td style=\"white-space: nowrap; max-width: 500px; overflow: hidden; text-overflow: ellipsis; \" colspan=\"1\"><div style=\"text-align: left;border-bottom: solid 2px #000; padding-bottom: 5px\">GT</div></td><td style=\"white-space: nowrap; max-width: 500px; overflow: hidden; text-overflow: ellipsis; \" colspan=\"1\"><div style=\"text-align: left;border-bottom: solid 2px #000; padding-bottom: 5px\">GT</div></td><td style=\"white-space: nowrap; max-width: 500px; overflow: hidden; text-overflow: ellipsis; \" colspan=\"1\"><div style=\"text-align: left;border-bottom: solid 2px #000; padding-bottom: 5px\">GT</div></td></tr><tr><td style=\"white-space: nowrap; max-width: 500px; overflow: hidden; text-overflow: ellipsis; text-align: left;\">locus&lt;GRCh38&gt;</td><td style=\"white-space: nowrap; max-width: 500px; overflow: hidden; text-overflow: ellipsis; text-align: left;\">array&lt;str&gt;</td><td style=\"white-space: nowrap; max-width: 500px; overflow: hidden; text-overflow: ellipsis; text-align: left;\">call</td><td style=\"white-space: nowrap; max-width: 500px; overflow: hidden; text-overflow: ellipsis; text-align: left;\">call</td><td style=\"white-space: nowrap; max-width: 500px; overflow: hidden; text-overflow: ellipsis; text-align: left;\">call</td><td style=\"white-space: nowrap; max-width: 500px; overflow: hidden; text-overflow: ellipsis; text-align: left;\">call</td></tr>\n",
       "</thead><tbody><tr><td style=\"white-space: nowrap; max-width: 500px; overflow: hidden; text-overflow: ellipsis; \">chrM:150</td><td style=\"white-space: nowrap; max-width: 500px; overflow: hidden; text-overflow: ellipsis; \">[&quot;C&quot;,&quot;T&quot;]</td><td style=\"white-space: nowrap; max-width: 500px; overflow: hidden; text-overflow: ellipsis; \">NA</td><td style=\"white-space: nowrap; max-width: 500px; overflow: hidden; text-overflow: ellipsis; \">NA</td><td style=\"white-space: nowrap; max-width: 500px; overflow: hidden; text-overflow: ellipsis; \">NA</td><td style=\"white-space: nowrap; max-width: 500px; overflow: hidden; text-overflow: ellipsis; \">NA</td></tr>\n",
       "<tr><td style=\"white-space: nowrap; max-width: 500px; overflow: hidden; text-overflow: ellipsis; \">chrM:152</td><td style=\"white-space: nowrap; max-width: 500px; overflow: hidden; text-overflow: ellipsis; \">[&quot;T&quot;,&quot;C&quot;]</td><td style=\"white-space: nowrap; max-width: 500px; overflow: hidden; text-overflow: ellipsis; \">NA</td><td style=\"white-space: nowrap; max-width: 500px; overflow: hidden; text-overflow: ellipsis; \">NA</td><td style=\"white-space: nowrap; max-width: 500px; overflow: hidden; text-overflow: ellipsis; \">NA</td><td style=\"white-space: nowrap; max-width: 500px; overflow: hidden; text-overflow: ellipsis; \">NA</td></tr>\n",
       "<tr><td style=\"white-space: nowrap; max-width: 500px; overflow: hidden; text-overflow: ellipsis; \">chrM:195</td><td style=\"white-space: nowrap; max-width: 500px; overflow: hidden; text-overflow: ellipsis; \">[&quot;T&quot;,&quot;C&quot;]</td><td style=\"white-space: nowrap; max-width: 500px; overflow: hidden; text-overflow: ellipsis; \">NA</td><td style=\"white-space: nowrap; max-width: 500px; overflow: hidden; text-overflow: ellipsis; \">NA</td><td style=\"white-space: nowrap; max-width: 500px; overflow: hidden; text-overflow: ellipsis; \">NA</td><td style=\"white-space: nowrap; max-width: 500px; overflow: hidden; text-overflow: ellipsis; \">NA</td></tr>\n",
       "<tr><td style=\"white-space: nowrap; max-width: 500px; overflow: hidden; text-overflow: ellipsis; \">chrM:263</td><td style=\"white-space: nowrap; max-width: 500px; overflow: hidden; text-overflow: ellipsis; \">[&quot;A&quot;,&quot;G&quot;]</td><td style=\"white-space: nowrap; max-width: 500px; overflow: hidden; text-overflow: ellipsis; \">1</td><td style=\"white-space: nowrap; max-width: 500px; overflow: hidden; text-overflow: ellipsis; \">1</td><td style=\"white-space: nowrap; max-width: 500px; overflow: hidden; text-overflow: ellipsis; \">1</td><td style=\"white-space: nowrap; max-width: 500px; overflow: hidden; text-overflow: ellipsis; \">1</td></tr>\n",
       "<tr><td style=\"white-space: nowrap; max-width: 500px; overflow: hidden; text-overflow: ellipsis; \">chrM:285</td><td style=\"white-space: nowrap; max-width: 500px; overflow: hidden; text-overflow: ellipsis; \">[&quot;C&quot;,&quot;T&quot;]</td><td style=\"white-space: nowrap; max-width: 500px; overflow: hidden; text-overflow: ellipsis; \">NA</td><td style=\"white-space: nowrap; max-width: 500px; overflow: hidden; text-overflow: ellipsis; \">1</td><td style=\"white-space: nowrap; max-width: 500px; overflow: hidden; text-overflow: ellipsis; \">NA</td><td style=\"white-space: nowrap; max-width: 500px; overflow: hidden; text-overflow: ellipsis; \">NA</td></tr>\n",
       "<tr><td style=\"white-space: nowrap; max-width: 500px; overflow: hidden; text-overflow: ellipsis; \">chrM:295</td><td style=\"white-space: nowrap; max-width: 500px; overflow: hidden; text-overflow: ellipsis; \">[&quot;C&quot;,&quot;T&quot;]</td><td style=\"white-space: nowrap; max-width: 500px; overflow: hidden; text-overflow: ellipsis; \">NA</td><td style=\"white-space: nowrap; max-width: 500px; overflow: hidden; text-overflow: ellipsis; \">NA</td><td style=\"white-space: nowrap; max-width: 500px; overflow: hidden; text-overflow: ellipsis; \">NA</td><td style=\"white-space: nowrap; max-width: 500px; overflow: hidden; text-overflow: ellipsis; \">1</td></tr>\n",
       "<tr><td style=\"white-space: nowrap; max-width: 500px; overflow: hidden; text-overflow: ellipsis; \">chrM:309</td><td style=\"white-space: nowrap; max-width: 500px; overflow: hidden; text-overflow: ellipsis; \">[&quot;C&quot;,&quot;CCCT&quot;,&quot;CCT&quot;]</td><td style=\"white-space: nowrap; max-width: 500px; overflow: hidden; text-overflow: ellipsis; \">1</td><td style=\"white-space: nowrap; max-width: 500px; overflow: hidden; text-overflow: ellipsis; \">NA</td><td style=\"white-space: nowrap; max-width: 500px; overflow: hidden; text-overflow: ellipsis; \">NA</td><td style=\"white-space: nowrap; max-width: 500px; overflow: hidden; text-overflow: ellipsis; \">NA</td></tr>\n",
       "<tr><td style=\"white-space: nowrap; max-width: 500px; overflow: hidden; text-overflow: ellipsis; \">chrM:309</td><td style=\"white-space: nowrap; max-width: 500px; overflow: hidden; text-overflow: ellipsis; \">[&quot;C&quot;,&quot;CCT&quot;]</td><td style=\"white-space: nowrap; max-width: 500px; overflow: hidden; text-overflow: ellipsis; \">NA</td><td style=\"white-space: nowrap; max-width: 500px; overflow: hidden; text-overflow: ellipsis; \">1</td><td style=\"white-space: nowrap; max-width: 500px; overflow: hidden; text-overflow: ellipsis; \">1</td><td style=\"white-space: nowrap; max-width: 500px; overflow: hidden; text-overflow: ellipsis; \">1</td></tr>\n",
       "<tr><td style=\"white-space: nowrap; max-width: 500px; overflow: hidden; text-overflow: ellipsis; \">chrM:310</td><td style=\"white-space: nowrap; max-width: 500px; overflow: hidden; text-overflow: ellipsis; \">[&quot;T&quot;,&quot;C&quot;]</td><td style=\"white-space: nowrap; max-width: 500px; overflow: hidden; text-overflow: ellipsis; \">1</td><td style=\"white-space: nowrap; max-width: 500px; overflow: hidden; text-overflow: ellipsis; \">1</td><td style=\"white-space: nowrap; max-width: 500px; overflow: hidden; text-overflow: ellipsis; \">1</td><td style=\"white-space: nowrap; max-width: 500px; overflow: hidden; text-overflow: ellipsis; \">1</td></tr>\n",
       "<tr><td style=\"white-space: nowrap; max-width: 500px; overflow: hidden; text-overflow: ellipsis; \">chrM:456</td><td style=\"white-space: nowrap; max-width: 500px; overflow: hidden; text-overflow: ellipsis; \">[&quot;C&quot;,&quot;T&quot;]</td><td style=\"white-space: nowrap; max-width: 500px; overflow: hidden; text-overflow: ellipsis; \">1</td><td style=\"white-space: nowrap; max-width: 500px; overflow: hidden; text-overflow: ellipsis; \">NA</td><td style=\"white-space: nowrap; max-width: 500px; overflow: hidden; text-overflow: ellipsis; \">NA</td><td style=\"white-space: nowrap; max-width: 500px; overflow: hidden; text-overflow: ellipsis; \">NA</td></tr>\n",
       "</tbody></table><p style=\"background: #fdd; padding: 0.4em;\">showing top 10 rows</p>\n",
       "<p style=\"background: #fdd; padding: 0.4em;\">showing the first 4 of 5 columns</p>\n"
      ],
      "text/plain": [
       "+---------------+--------------------+-------------------+-------------------+\n",
       "| locus         | alleles            | '000007000020'.GT | '000007000040'.GT |\n",
       "+---------------+--------------------+-------------------+-------------------+\n",
       "| locus<GRCh38> | array<str>         | call              | call              |\n",
       "+---------------+--------------------+-------------------+-------------------+\n",
       "| chrM:150      | [\"C\",\"T\"]          | NA                | NA                |\n",
       "| chrM:152      | [\"T\",\"C\"]          | NA                | NA                |\n",
       "| chrM:195      | [\"T\",\"C\"]          | NA                | NA                |\n",
       "| chrM:263      | [\"A\",\"G\"]          | 1                 | 1                 |\n",
       "| chrM:285      | [\"C\",\"T\"]          | NA                | 1                 |\n",
       "| chrM:295      | [\"C\",\"T\"]          | NA                | NA                |\n",
       "| chrM:309      | [\"C\",\"CCCT\",\"CCT\"] | 1                 | NA                |\n",
       "| chrM:309      | [\"C\",\"CCT\"]        | NA                | 1                 |\n",
       "| chrM:310      | [\"T\",\"C\"]          | 1                 | 1                 |\n",
       "| chrM:456      | [\"C\",\"T\"]          | 1                 | NA                |\n",
       "+---------------+--------------------+-------------------+-------------------+\n",
       "\n",
       "+-------------------+-------------------+\n",
       "| '000007000070'.GT | '000007000030'.GT |\n",
       "+-------------------+-------------------+\n",
       "| call              | call              |\n",
       "+-------------------+-------------------+\n",
       "| NA                | NA                |\n",
       "| NA                | NA                |\n",
       "| NA                | NA                |\n",
       "| 1                 | 1                 |\n",
       "| NA                | NA                |\n",
       "| NA                | 1                 |\n",
       "| NA                | NA                |\n",
       "| 1                 | 1                 |\n",
       "| 1                 | 1                 |\n",
       "| NA                | NA                |\n",
       "+-------------------+-------------------+\n",
       "showing top 10 rows\n",
       "showing the first 4 of 5 columns"
      ]
     },
     "metadata": {},
     "output_type": "display_data"
    }
   ],
   "source": [
    "data_af.filter_rows(data_af.locus.contig == \"chrM\").GT.show(10)"
   ]
  },
  {
   "cell_type": "code",
   "execution_count": null,
   "id": "be6a3e01-ede9-4f91-8cad-cdb3cdd95e66",
   "metadata": {},
   "outputs": [],
   "source": []
  },
  {
   "cell_type": "code",
   "execution_count": null,
   "id": "c3b26c49-7400-4c8c-a721-f965888d15cd",
   "metadata": {},
   "outputs": [],
   "source": []
  },
  {
   "cell_type": "code",
   "execution_count": 26,
   "id": "71391e0f-a387-473a-b7f0-bb3532b5b9b3",
   "metadata": {},
   "outputs": [
    {
     "name": "stdout",
     "output_type": "stream",
     "text": [
      "----------------------------------------\n",
      "Global fields:\n",
      "    None\n",
      "----------------------------------------\n",
      "Column fields:\n",
      "    's': str\n",
      "    'is_female': bool\n",
      "----------------------------------------\n",
      "Row fields:\n",
      "    'locus': locus<GRCh38>\n",
      "    'alleles': array<str>\n",
      "    'rsid': str\n",
      "    'qual': float64\n",
      "    'filters': set<str>\n",
      "    'info': struct {\n",
      "        END: int32\n",
      "    }\n",
      "    'call_stats': struct {\n",
      "        AC: array<int32>, \n",
      "        AF: array<float64>, \n",
      "        AN: int32, \n",
      "        homozygote_count: array<int32>\n",
      "    }\n",
      "    'allele_frequencies': array<float64>\n",
      "----------------------------------------\n",
      "Entry fields:\n",
      "    'GT': call\n",
      "    'GQ': int32\n",
      "    'DP': int32\n",
      "    'MIN_DP': int32\n",
      "    'AD': array<int32>\n",
      "    'VAF': array<float64>\n",
      "    'PL': array<int32>\n",
      "    'MED_DP': int32\n",
      "----------------------------------------\n",
      "Column key: ['s']\n",
      "Row key: ['locus', 'alleles']\n",
      "----------------------------------------\n"
     ]
    }
   ],
   "source": [
    "data_af.describe()"
   ]
  },
  {
   "cell_type": "code",
   "execution_count": 28,
   "id": "0606bbb5-6536-4a87-89f6-32113441160d",
   "metadata": {},
   "outputs": [
    {
     "name": "stderr",
     "output_type": "stream",
     "text": [
      "[Stage 50:>                                                         (0 + 1) / 1]"
     ]
    },
    {
     "data": {
      "text/html": [
       "<table><thead><tr><td style=\"white-space: nowrap; max-width: 500px; overflow: hidden; text-overflow: ellipsis; \" colspan=\"1\"><div style=\"text-align: left;\"></div></td><td style=\"white-space: nowrap; max-width: 500px; overflow: hidden; text-overflow: ellipsis; \" colspan=\"1\"><div style=\"text-align: left;\"></div></td><td style=\"white-space: nowrap; max-width: 500px; overflow: hidden; text-overflow: ellipsis; \" colspan=\"1\"><div style=\"text-align: left;\"></div></td><td style=\"white-space: nowrap; max-width: 500px; overflow: hidden; text-overflow: ellipsis; \" colspan=\"1\"><div style=\"text-align: left;\"></div></td><td style=\"white-space: nowrap; max-width: 500px; overflow: hidden; text-overflow: ellipsis; \" colspan=\"1\"><div style=\"text-align: left;\"></div></td><td style=\"white-space: nowrap; max-width: 500px; overflow: hidden; text-overflow: ellipsis; \" colspan=\"1\"><div style=\"text-align: left;\"></div></td></tr><tr><td style=\"white-space: nowrap; max-width: 500px; overflow: hidden; text-overflow: ellipsis; \" colspan=\"1\"><div style=\"text-align: left;\"></div></td><td style=\"white-space: nowrap; max-width: 500px; overflow: hidden; text-overflow: ellipsis; \" colspan=\"1\"><div style=\"text-align: left;\"></div></td><td style=\"white-space: nowrap; max-width: 500px; overflow: hidden; text-overflow: ellipsis; \" colspan=\"1\"><div style=\"text-align: left;border-bottom: solid 2px #000; padding-bottom: 5px\">&#x27;000007000020&#x27;</div></td><td style=\"white-space: nowrap; max-width: 500px; overflow: hidden; text-overflow: ellipsis; \" colspan=\"1\"><div style=\"text-align: left;border-bottom: solid 2px #000; padding-bottom: 5px\">&#x27;000007000040&#x27;</div></td><td style=\"white-space: nowrap; max-width: 500px; overflow: hidden; text-overflow: ellipsis; \" colspan=\"1\"><div style=\"text-align: left;border-bottom: solid 2px #000; padding-bottom: 5px\">&#x27;000007000070&#x27;</div></td><td style=\"white-space: nowrap; max-width: 500px; overflow: hidden; text-overflow: ellipsis; \" colspan=\"1\"><div style=\"text-align: left;border-bottom: solid 2px #000; padding-bottom: 5px\">&#x27;000007000030&#x27;</div></td></tr><tr><td style=\"white-space: nowrap; max-width: 500px; overflow: hidden; text-overflow: ellipsis; \" colspan=\"1\"><div style=\"text-align: left;border-bottom: solid 2px #000; padding-bottom: 5px\">locus</div></td><td style=\"white-space: nowrap; max-width: 500px; overflow: hidden; text-overflow: ellipsis; \" colspan=\"1\"><div style=\"text-align: left;border-bottom: solid 2px #000; padding-bottom: 5px\">alleles</div></td><td style=\"white-space: nowrap; max-width: 500px; overflow: hidden; text-overflow: ellipsis; \" colspan=\"1\"><div style=\"text-align: left;border-bottom: solid 2px #000; padding-bottom: 5px\">GT</div></td><td style=\"white-space: nowrap; max-width: 500px; overflow: hidden; text-overflow: ellipsis; \" colspan=\"1\"><div style=\"text-align: left;border-bottom: solid 2px #000; padding-bottom: 5px\">GT</div></td><td style=\"white-space: nowrap; max-width: 500px; overflow: hidden; text-overflow: ellipsis; \" colspan=\"1\"><div style=\"text-align: left;border-bottom: solid 2px #000; padding-bottom: 5px\">GT</div></td><td style=\"white-space: nowrap; max-width: 500px; overflow: hidden; text-overflow: ellipsis; \" colspan=\"1\"><div style=\"text-align: left;border-bottom: solid 2px #000; padding-bottom: 5px\">GT</div></td></tr><tr><td style=\"white-space: nowrap; max-width: 500px; overflow: hidden; text-overflow: ellipsis; text-align: left;\">locus&lt;GRCh38&gt;</td><td style=\"white-space: nowrap; max-width: 500px; overflow: hidden; text-overflow: ellipsis; text-align: left;\">array&lt;str&gt;</td><td style=\"white-space: nowrap; max-width: 500px; overflow: hidden; text-overflow: ellipsis; text-align: left;\">call</td><td style=\"white-space: nowrap; max-width: 500px; overflow: hidden; text-overflow: ellipsis; text-align: left;\">call</td><td style=\"white-space: nowrap; max-width: 500px; overflow: hidden; text-overflow: ellipsis; text-align: left;\">call</td><td style=\"white-space: nowrap; max-width: 500px; overflow: hidden; text-overflow: ellipsis; text-align: left;\">call</td></tr>\n",
       "</thead><tbody><tr><td style=\"white-space: nowrap; max-width: 500px; overflow: hidden; text-overflow: ellipsis; \">chrY:2781761</td><td style=\"white-space: nowrap; max-width: 500px; overflow: hidden; text-overflow: ellipsis; \">[&quot;CA&quot;,&quot;C&quot;]</td><td style=\"white-space: nowrap; max-width: 500px; overflow: hidden; text-overflow: ellipsis; \">NA</td><td style=\"white-space: nowrap; max-width: 500px; overflow: hidden; text-overflow: ellipsis; \">1</td><td style=\"white-space: nowrap; max-width: 500px; overflow: hidden; text-overflow: ellipsis; \">1</td><td style=\"white-space: nowrap; max-width: 500px; overflow: hidden; text-overflow: ellipsis; \">1</td></tr>\n",
       "<tr><td style=\"white-space: nowrap; max-width: 500px; overflow: hidden; text-overflow: ellipsis; \">chrY:2783604</td><td style=\"white-space: nowrap; max-width: 500px; overflow: hidden; text-overflow: ellipsis; \">[&quot;G&quot;,&quot;C&quot;]</td><td style=\"white-space: nowrap; max-width: 500px; overflow: hidden; text-overflow: ellipsis; \">NA</td><td style=\"white-space: nowrap; max-width: 500px; overflow: hidden; text-overflow: ellipsis; \">NA</td><td style=\"white-space: nowrap; max-width: 500px; overflow: hidden; text-overflow: ellipsis; \">NA</td><td style=\"white-space: nowrap; max-width: 500px; overflow: hidden; text-overflow: ellipsis; \">NA</td></tr>\n",
       "<tr><td style=\"white-space: nowrap; max-width: 500px; overflow: hidden; text-overflow: ellipsis; \">chrY:2789135</td><td style=\"white-space: nowrap; max-width: 500px; overflow: hidden; text-overflow: ellipsis; \">[&quot;C&quot;,&quot;T&quot;]</td><td style=\"white-space: nowrap; max-width: 500px; overflow: hidden; text-overflow: ellipsis; \">NA</td><td style=\"white-space: nowrap; max-width: 500px; overflow: hidden; text-overflow: ellipsis; \">NA</td><td style=\"white-space: nowrap; max-width: 500px; overflow: hidden; text-overflow: ellipsis; \">NA</td><td style=\"white-space: nowrap; max-width: 500px; overflow: hidden; text-overflow: ellipsis; \">1</td></tr>\n",
       "<tr><td style=\"white-space: nowrap; max-width: 500px; overflow: hidden; text-overflow: ellipsis; \">chrY:2790748</td><td style=\"white-space: nowrap; max-width: 500px; overflow: hidden; text-overflow: ellipsis; \">[&quot;T&quot;,&quot;TA&quot;]</td><td style=\"white-space: nowrap; max-width: 500px; overflow: hidden; text-overflow: ellipsis; \">NA</td><td style=\"white-space: nowrap; max-width: 500px; overflow: hidden; text-overflow: ellipsis; \">1</td><td style=\"white-space: nowrap; max-width: 500px; overflow: hidden; text-overflow: ellipsis; \">NA</td><td style=\"white-space: nowrap; max-width: 500px; overflow: hidden; text-overflow: ellipsis; \">NA</td></tr>\n",
       "<tr><td style=\"white-space: nowrap; max-width: 500px; overflow: hidden; text-overflow: ellipsis; \">chrY:2791980</td><td style=\"white-space: nowrap; max-width: 500px; overflow: hidden; text-overflow: ellipsis; \">[&quot;T&quot;,&quot;G&quot;]</td><td style=\"white-space: nowrap; max-width: 500px; overflow: hidden; text-overflow: ellipsis; \">NA</td><td style=\"white-space: nowrap; max-width: 500px; overflow: hidden; text-overflow: ellipsis; \">0</td><td style=\"white-space: nowrap; max-width: 500px; overflow: hidden; text-overflow: ellipsis; \">NA</td><td style=\"white-space: nowrap; max-width: 500px; overflow: hidden; text-overflow: ellipsis; \">NA</td></tr>\n",
       "<tr><td style=\"white-space: nowrap; max-width: 500px; overflow: hidden; text-overflow: ellipsis; \">chrY:2793653</td><td style=\"white-space: nowrap; max-width: 500px; overflow: hidden; text-overflow: ellipsis; \">[&quot;A&quot;,&quot;G&quot;]</td><td style=\"white-space: nowrap; max-width: 500px; overflow: hidden; text-overflow: ellipsis; \">NA</td><td style=\"white-space: nowrap; max-width: 500px; overflow: hidden; text-overflow: ellipsis; \">1</td><td style=\"white-space: nowrap; max-width: 500px; overflow: hidden; text-overflow: ellipsis; \">1</td><td style=\"white-space: nowrap; max-width: 500px; overflow: hidden; text-overflow: ellipsis; \">1</td></tr>\n",
       "<tr><td style=\"white-space: nowrap; max-width: 500px; overflow: hidden; text-overflow: ellipsis; \">chrY:2795902</td><td style=\"white-space: nowrap; max-width: 500px; overflow: hidden; text-overflow: ellipsis; \">[&quot;C&quot;,&quot;T&quot;]</td><td style=\"white-space: nowrap; max-width: 500px; overflow: hidden; text-overflow: ellipsis; \">NA</td><td style=\"white-space: nowrap; max-width: 500px; overflow: hidden; text-overflow: ellipsis; \">1</td><td style=\"white-space: nowrap; max-width: 500px; overflow: hidden; text-overflow: ellipsis; \">NA</td><td style=\"white-space: nowrap; max-width: 500px; overflow: hidden; text-overflow: ellipsis; \">NA</td></tr>\n",
       "<tr><td style=\"white-space: nowrap; max-width: 500px; overflow: hidden; text-overflow: ellipsis; \">chrY:2796208</td><td style=\"white-space: nowrap; max-width: 500px; overflow: hidden; text-overflow: ellipsis; \">[&quot;C&quot;,&quot;T&quot;]</td><td style=\"white-space: nowrap; max-width: 500px; overflow: hidden; text-overflow: ellipsis; \">NA</td><td style=\"white-space: nowrap; max-width: 500px; overflow: hidden; text-overflow: ellipsis; \">NA</td><td style=\"white-space: nowrap; max-width: 500px; overflow: hidden; text-overflow: ellipsis; \">NA</td><td style=\"white-space: nowrap; max-width: 500px; overflow: hidden; text-overflow: ellipsis; \">NA</td></tr>\n",
       "<tr><td style=\"white-space: nowrap; max-width: 500px; overflow: hidden; text-overflow: ellipsis; \">chrY:2797100</td><td style=\"white-space: nowrap; max-width: 500px; overflow: hidden; text-overflow: ellipsis; \">[&quot;C&quot;,&quot;CA&quot;]</td><td style=\"white-space: nowrap; max-width: 500px; overflow: hidden; text-overflow: ellipsis; \">NA</td><td style=\"white-space: nowrap; max-width: 500px; overflow: hidden; text-overflow: ellipsis; \">NA</td><td style=\"white-space: nowrap; max-width: 500px; overflow: hidden; text-overflow: ellipsis; \">NA</td><td style=\"white-space: nowrap; max-width: 500px; overflow: hidden; text-overflow: ellipsis; \">NA</td></tr>\n",
       "<tr><td style=\"white-space: nowrap; max-width: 500px; overflow: hidden; text-overflow: ellipsis; \">chrY:2797491</td><td style=\"white-space: nowrap; max-width: 500px; overflow: hidden; text-overflow: ellipsis; \">[&quot;A&quot;,&quot;C&quot;]</td><td style=\"white-space: nowrap; max-width: 500px; overflow: hidden; text-overflow: ellipsis; \">NA</td><td style=\"white-space: nowrap; max-width: 500px; overflow: hidden; text-overflow: ellipsis; \">NA</td><td style=\"white-space: nowrap; max-width: 500px; overflow: hidden; text-overflow: ellipsis; \">NA</td><td style=\"white-space: nowrap; max-width: 500px; overflow: hidden; text-overflow: ellipsis; \">NA</td></tr>\n",
       "</tbody></table><p style=\"background: #fdd; padding: 0.4em;\">showing top 10 rows</p>\n",
       "<p style=\"background: #fdd; padding: 0.4em;\">showing the first 4 of 5 columns</p>\n"
      ],
      "text/plain": [
       "+---------------+------------+-------------------+-------------------+\n",
       "| locus         | alleles    | '000007000020'.GT | '000007000040'.GT |\n",
       "+---------------+------------+-------------------+-------------------+\n",
       "| locus<GRCh38> | array<str> | call              | call              |\n",
       "+---------------+------------+-------------------+-------------------+\n",
       "| chrY:2781761  | [\"CA\",\"C\"] | NA                | 1                 |\n",
       "| chrY:2783604  | [\"G\",\"C\"]  | NA                | NA                |\n",
       "| chrY:2789135  | [\"C\",\"T\"]  | NA                | NA                |\n",
       "| chrY:2790748  | [\"T\",\"TA\"] | NA                | 1                 |\n",
       "| chrY:2791980  | [\"T\",\"G\"]  | NA                | 0                 |\n",
       "| chrY:2793653  | [\"A\",\"G\"]  | NA                | 1                 |\n",
       "| chrY:2795902  | [\"C\",\"T\"]  | NA                | 1                 |\n",
       "| chrY:2796208  | [\"C\",\"T\"]  | NA                | NA                |\n",
       "| chrY:2797100  | [\"C\",\"CA\"] | NA                | NA                |\n",
       "| chrY:2797491  | [\"A\",\"C\"]  | NA                | NA                |\n",
       "+---------------+------------+-------------------+-------------------+\n",
       "\n",
       "+-------------------+-------------------+\n",
       "| '000007000070'.GT | '000007000030'.GT |\n",
       "+-------------------+-------------------+\n",
       "| call              | call              |\n",
       "+-------------------+-------------------+\n",
       "| 1                 | 1                 |\n",
       "| NA                | NA                |\n",
       "| NA                | 1                 |\n",
       "| NA                | NA                |\n",
       "| NA                | NA                |\n",
       "| 1                 | 1                 |\n",
       "| NA                | NA                |\n",
       "| NA                | NA                |\n",
       "| NA                | NA                |\n",
       "| NA                | NA                |\n",
       "+-------------------+-------------------+\n",
       "showing top 10 rows\n",
       "showing the first 4 of 5 columns"
      ]
     },
     "metadata": {},
     "output_type": "display_data"
    }
   ],
   "source": [
    "data_af.filter_rows(data_af.locus.contig == \"chrY\").GT.show(10)"
   ]
  },
  {
   "cell_type": "code",
   "execution_count": null,
   "id": "fa710bba-e260-4d64-95f7-b1f830367a75",
   "metadata": {},
   "outputs": [],
   "source": []
  },
  {
   "cell_type": "code",
   "execution_count": null,
   "id": "fab02368-ac85-4880-a347-eca87cee5aa8",
   "metadata": {},
   "outputs": [],
   "source": [
    "final_af = data_af.filter_rows(\n",
    "    (data_af.locus.contig == \"chrM\") & \n",
    "    (data_af.locus.position == 16278)\n",
    ")\n",
    "\n",
    "data_af.rows().show()"
   ]
  }
 ],
 "metadata": {
  "kernelspec": {
   "display_name": "Python 3 (ipykernel)",
   "language": "python",
   "name": "python3"
  },
  "language_info": {
   "codemirror_mode": {
    "name": "ipython",
    "version": 3
   },
   "file_extension": ".py",
   "mimetype": "text/x-python",
   "name": "python",
   "nbconvert_exporter": "python",
   "pygments_lexer": "ipython3",
   "version": "3.12.2"
  }
 },
 "nbformat": 4,
 "nbformat_minor": 5
}
