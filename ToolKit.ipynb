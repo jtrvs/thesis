{
 "cells": [
  {
   "cell_type": "code",
   "execution_count": null,
   "id": "cfbe879e-8190-491a-adba-5e72ab24464f",
   "metadata": {},
   "outputs": [],
   "source": [
    "#import numpy\n",
    "#numpy.version.version"
   ]
  },
  {
   "cell_type": "code",
   "execution_count": null,
   "id": "a4bdb77e-1dbc-4f70-81e3-41b6900ece81",
   "metadata": {},
   "outputs": [],
   "source": [
    "# память JVM для Hail\n",
    "hl.init(sc, spark_conf={'spark.driver.memory': '8g', 'spark.executor.memory': '8g'}) "
   ]
  },
  {
   "cell_type": "code",
   "execution_count": null,
   "id": "e77b9820-d7ec-43fb-a57c-013e95395c35",
   "metadata": {},
   "outputs": [],
   "source": [
    "with gzip.open('/home/julia/Downloads/gnomADru/vcf/000007000070.vcf.gz', 'rt') as f:\n",
    "    for l in f.readlines()[2500:5000]:\n",
    "        print(l.strip())"
   ]
  },
  {
   "cell_type": "code",
   "execution_count": null,
   "id": "0f761f00-9042-4eb8-8222-0030b5a96f82",
   "metadata": {},
   "outputs": [],
   "source": [
    "#работает только с VDS!\n",
    "combiner = hl.vds.new_combiner(\n",
    "    output_path='/home/julia/Downloads/gnomADru/vcf/test.vds',\n",
    "    temp_path='/tmp',\n",
    "    gvcf_paths=vcf_files,\n",
    "    use_genome_default_intervals=True,\n",
    ")\n",
    "\n",
    "combiner.run()"
   ]
  },
  {
   "cell_type": "code",
   "execution_count": null,
   "id": "355ef168-9391-41e8-8e66-b67c4238d1f5",
   "metadata": {},
   "outputs": [],
   "source": [
    "# Импорт всех VCF файлов в один MatrixTable - работает только для одного сэмпла! если нужно объединять разные образцы - не прокатит,\n",
    "# потребуется комбинировать по одному...печаль\n",
    "mt_list = [hl.import_vcf(vcf, reference_genome='GRCh38', force_bgz=True) for vcf in vcf_files]"
   ]
  },
  {
   "cell_type": "code",
   "execution_count": null,
   "id": "24e2283c-053b-427b-bbd7-ed7e750334f6",
   "metadata": {},
   "outputs": [],
   "source": [
    "#Вытащить одну хромосому\n",
    "prefix = '/home/julia/Downloads/gnomADru/chr22/'\n",
    "\n",
    "for vcf in vcf_files:\n",
    "    df = hl.import_vcf(vcf, force_bgz=True)\n",
    "    meta = hl.methods.get_vcf_metadata(vcf)\n",
    "    dn = df.filter_rows(df.locus.contig == 'chr22')\n",
    "    basename = os.path.basename(vcf).split('.')[0]\n",
    "    path = prefix + basename + '.vcf.bgz'\n",
    "    # hl.export_vcf(dn, path, tabix=True, parallel='separate_header')\n",
    "    hl.export_vcf(dn, path, tabix=True, metadata=meta)\n",
    "    # df.show()\n",
    "    # dn.show()\n",
    "    \n",
    "    # print(path)\n",
    "    \n",
    "#альтернатива - не проверяла\n",
    "mt = mt.filter_rows(mt.locus.contig == '22')"
   ]
  },
  {
   "cell_type": "code",
   "execution_count": null,
   "id": "63f011f4-e0e7-42b5-991f-8dcb30e1875d",
   "metadata": {},
   "outputs": [],
   "source": [
    "#метадата\n",
    "hl.methods.get_vcf_metadata('/home/julia/Downloads/gnomADru/vcf/000007000020.vcf.gz')"
   ]
  },
  {
   "cell_type": "code",
   "execution_count": null,
   "id": "963156eb-5ce5-4c3f-826d-c3e1bd6a8323",
   "metadata": {},
   "outputs": [],
   "source": [
    "# импорт один файл\n",
    "df = hl.import_vcf('/home/julia/Downloads/gnomADru/chr22/000007000020.vcf.bgz')\n",
    "df.show()"
   ]
  },
  {
   "cell_type": "code",
   "execution_count": null,
   "id": "df1613ae-a3c7-425b-86e6-3579e237c709",
   "metadata": {},
   "outputs": [],
   "source": [
    "#пока непонятно, что такое и работает ли\n",
    "all_variants = [mt.rows().select() for mt in mts]\n",
    "combined_variants = all_variants[0]\n",
    "for variants in all_variants[1:]:\n",
    "    combined_variants = combined_variants.union(variants)\n",
    "combined_new = mts[0].union_cols(*mts[1:], row_join_type='outer')"
   ]
  },
  {
   "cell_type": "code",
   "execution_count": null,
   "id": "b646ca19-1cb6-434b-9e26-0c360718faea",
   "metadata": {},
   "outputs": [],
   "source": [
    "# выбрать определённые столбцы\n",
    "combined_mt.select_rows(\n",
    "    rsid=combined_mt.rsid,\n",
    "    chrom=combined_mt.locus.contig,\n",
    "    pos=combined_mt.locus.position\n",
    ").show(n_rows=10)"
   ]
  },
  {
   "cell_type": "code",
   "execution_count": null,
   "id": "650ff86a-026b-4093-a24b-337e6de01de2",
   "metadata": {},
   "outputs": [],
   "source": [
    "#deep seek - на случай, если структура окажется неправильной\n",
    "# hl.init()\n",
    "\n",
    "# Список путей к VCF файлам\n",
    "vcf_paths = [\n",
    "    \"/home/julia/Downloads/gnomADru/chr22/000007000040.vcf.bgz\",\n",
    "    \"/home/julia/Downloads/gnomADru/chr22/000007000030.vcf.bgz\",\n",
    "    # добавьте остальные файлы\n",
    "]\n",
    "\n",
    "# Загрузка каждого VCF файла отдельно\n",
    "mts = []\n",
    "for path in vcf_paths:\n",
    "    mt = hl.import_vcf(path, force_bgz=True, array_elements_required=False)\n",
    "    # Фильтрация по хромосоме (если необходимо)\n",
    "    mt = mt.filter_rows(mt.locus.contig == '22')\n",
    "    # Оставляем только общие поля (если необходимо)\n",
    "    mt = mt.select_entries('GT')\n",
    "    # Переименование образцов (если необходимо)\n",
    "    mt = mt.key_cols_by(sample_id=path.split('/')[-1] + \"_\" + mt.s)\n",
    "    mts.append(mt)\n",
    "\n",
    "# Объединение MatrixTable по колонкам (образцам) с внешним объединением по строкам\n",
    "combined_mt = mts[0]\n",
    "for mt in mts[1:]:\n",
    "    combined_mt = combined_mt.union_cols(mt, row_join_type='outer')\n",
    "\n",
    "# Проверка количества строк\n",
    "print(\"Объединенная таблица:\", combined_mt.count())  # Количество строк должно быть равно общему числу уникальных вариантов\n",
    "\n",
    "# Пример вывода статистики\n",
    "combined_mt.describe()\n",
    "\n",
    "# Остановка Hail\n",
    "hl.stop()"
   ]
  },
  {
   "cell_type": "code",
   "execution_count": null,
   "id": "af3a4c27-8ee8-4e43-ade7-d045d2e502f2",
   "metadata": {},
   "outputs": [],
   "source": [
    "# типы данных, содержащиеся в Matrix\n",
    "print(filtered_mt.row.dtype)"
   ]
  },
  {
   "cell_type": "code",
   "execution_count": null,
   "id": "84ddac01-4e71-4854-8ed7-b73f5e02997c",
   "metadata": {},
   "outputs": [],
   "source": [
    "#найти конкретный вариант\n",
    "test_intervals = ['chr22:10516121-10516122'] \n",
    "mint = hl.filter_intervals(\n",
    "    mts[1],\n",
    "    [hl.parse_locus_interval(x,)\n",
    "     for x in test_intervals])\n",
    "mint.GT.show()"
   ]
  },
  {
   "cell_type": "code",
   "execution_count": null,
   "id": "0b3e11c7-b5e1-41de-a312-2759e4117795",
   "metadata": {},
   "outputs": [],
   "source": [
    "%%time\n",
    "\n",
    "#посмотреть, сколько вариантов с нулевой частотой - убедиться, что данные по частоте есть\n",
    "\n",
    "count = freq_mt_all.aggregate_rows(\n",
    "    hl.agg.count_where(freq_mt_all.allele_frequencies[0] > 0)\n",
    ")\n",
    "print(f\"Вариантов с AF[0] > 0: {count}\")"
   ]
  },
  {
   "cell_type": "code",
   "execution_count": null,
   "id": "6ac1d5b3-10d5-4f8b-a3f6-b30164d356d4",
   "metadata": {},
   "outputs": [],
   "source": [
    "# фильтрация по глубине прочтения DP\n",
    "\n",
    "filtered_mt = mt.filter_rows(\n",
    "    (mt.info.DP >= 20) &          # Общая глубина по варианту\n",
    "    (mt.entry.DP >= 10)           # Глубина у отдельного образца\n",
    ")"
   ]
  },
  {
   "cell_type": "code",
   "execution_count": null,
   "id": "364b47df-3e8c-4738-8e44-5fc356a32e30",
   "metadata": {},
   "outputs": [],
   "source": [
    "# отделить структурные варианты\n",
    "\n",
    "mt = mt.annotate_rows(\n",
    "    variant_type = hl.cond(\n",
    "        (hl.len(mt.alleles[0]) - hl.len(mt.alleles[1])).abs() >= 50,\n",
    "        \"SV\",\n",
    "        \"indel\"\n",
    "    )\n",
    ")\n",
    "# Фильтрация SVs\n",
    "svs = mt.filter_rows(mt.variant_type == \"SV\")"
   ]
  },
  {
   "cell_type": "code",
   "execution_count": null,
   "id": "07934206-5da4-40fc-a40d-1f3cca436b6b",
   "metadata": {},
   "outputs": [],
   "source": [
    "# среднее DP по вариантам (агрегированное по всем образцам)\n",
    "freq_mt_all = freq_mt_all.annotate_rows(\n",
    "    mean_DP = hl.agg.mean(freq_mt_all.DP)\n",
    ")\n",
    "\n",
    "# Строим гистограмму\n",
    "freq_mt_all.aggregate_rows(\n",
    "    hl.agg.hist(freq_mt_all.mean_DP, 0, 100, 20)\n",
    ").show()"
   ]
  },
  {
   "cell_type": "code",
   "execution_count": null,
   "id": "8d0f75f6-32ea-4c48-8305-848fe4c2b54e",
   "metadata": {},
   "outputs": [],
   "source": [
    "# фильтрация редких (MAF) > 1%\n",
    "filtered = freq_mt_all.filter_rows(\n",
    "    hl.min(freq_mt_all.allele_frequencies) > 0.01\n",
    ")"
   ]
  },
  {
   "cell_type": "code",
   "execution_count": null,
   "id": "9fc1d4cd-0ffb-461f-b8a7-c67f689e2ea8",
   "metadata": {},
   "outputs": [],
   "source": [
    "# поиск частых, с частотой основного аллеля > 95%\n",
    "common_vars = freq_mt_all.filter_rows(\n",
    "    hl.max(freq_mt_all.allele_frequencies) > 0.95\n",
    ")"
   ]
  },
  {
   "cell_type": "code",
   "execution_count": null,
   "id": "ab605d09-b747-4890-88ce-fdc6945953e9",
   "metadata": {},
   "outputs": [],
   "source": [
    "# запуск на кластере (bash) (например, AWS EMR, Google Dataproc, YARN)\n",
    "\n",
    "spark-submit \\\n",
    "    --master yarn \\\n",
    "    --executor-memory 16G \\\n",
    "    --driver-memory 8G \\\n",
    "    my_hail_script.py"
   ]
  },
  {
   "cell_type": "code",
   "execution_count": null,
   "id": "119e53ac-f490-4f47-857a-ee1f6c68531a",
   "metadata": {},
   "outputs": [],
   "source": [
    "# Для YARN (Hadoop-кластер)\n",
    "hl.init(\n",
    "    spark_conf={\n",
    "        \"spark.master\": \"yarn\",\n",
    "        \"spark.executor.memory\": \"16G\",\n",
    "        \"spark.driver.memory\": \"8G\",\n",
    "    }\n",
    ")\n",
    "\n",
    "# Для AWS EMR (пример)\n",
    "hl.init(\n",
    "    spark_conf={\n",
    "        \"spark.master\": \"spark://<master-IP>:7077\",\n",
    "        \"spark.executor.instances\": \"10\",\n",
    "    }\n",
    ")"
   ]
  },
  {
   "cell_type": "code",
   "execution_count": 2,
   "id": "459c6668-abce-4a4e-b8b9-893a7fdde591",
   "metadata": {},
   "outputs": [
    {
     "name": "stdout",
     "output_type": "stream",
     "text": [
      "['chr1', 'chr2', 'chr3', 'chr4', 'chr5', 'chr6', 'chr7', 'chr8', 'chr9', 'chr10', 'chr11', 'chr12', 'chr13', 'chr14', 'chr15', 'chr16', 'chr17', 'chr18', 'chr19', 'chr20', 'chr21', 'chr22', 'chrX', 'chrY', 'chrMT']\n"
     ]
    }
   ],
   "source": [
    "# Аутосомы (1-22)\n",
    "autosomes = [str(x) for x in range(1, 23)]\n",
    "\n",
    "# Половые хромосомы и митохондриальная ДНК\n",
    "sex_and_mito = [\"X\", \"Y\", \"MT\"]\n",
    "\n",
    "# Все хромосомы GRCh38 (стандартный порядок)\n",
    "all_chromosomes = autosomes + sex_and_mito\n",
    "\n",
    "# Альтернативные варианты (например, \"chr1\" вместо \"1\")\n",
    "all_chromosomes_with_prefix = [\"chr\" + x for x in all_chromosomes]\n",
    "print(all_chromosomes_with_prefix)"
   ]
  },
  {
   "cell_type": "code",
   "execution_count": null,
   "id": "0d75547a-1b4e-4f2b-beb8-464cc00becae",
   "metadata": {},
   "outputs": [],
   "source": [
    "zcat 000007000020.vcf.gz | grep -m 10 \"##FORMAT\""
   ]
  },
  {
   "cell_type": "code",
   "execution_count": null,
   "id": "2ca6a6f9-e730-4d59-ab17-c9d59a8045b9",
   "metadata": {},
   "outputs": [],
   "source": [
    "hl.summarize_variants(combined_mt_all)"
   ]
  },
  {
   "cell_type": "code",
   "execution_count": null,
   "id": "ed692585-3282-44bf-8db6-16227b8ad618",
   "metadata": {},
   "outputs": [],
   "source": [
    "# учет мультиаллельных вариантов - не факт, что работает\n",
    "\n",
    "mt = hl.split_multi_hts(mt)  # Разделяет мультиаллельные варианты\n",
    "mt = mt.annotate_rows(\n",
    "    AF = hl.agg.call_stats(mt.GT, mt.alleles).AF[1]  # Частота первого альтернативного\n",
    ")"
   ]
  },
  {
   "cell_type": "code",
   "execution_count": null,
   "id": "3084126a-b2bd-44f8-8a22-35cf53220631",
   "metadata": {},
   "outputs": [],
   "source": [
    "# проверка правильности гемизиготности - РАБОТАЕТ\n",
    "\n",
    "male_x_entries = mt_normalized.filter_entries(\n",
    "        (~mt_normalized.is_female) & \n",
    "        (mt_normalized.locus.contig == \"chrX\")\n",
    "    )\n",
    "    \n",
    "    # Агрегируем результаты\n",
    "    result = male_x_entries.aggregate_entries(\n",
    "        hl.struct(\n",
    "            total=hl.agg.count(),\n",
    "            hom_ref=hl.agg.count_where(male_x_entries.GT.is_hom_ref()),\n",
    "            hom_var=hl.agg.count_where(male_x_entries.GT.is_hom_var()),\n",
    "            het=hl.agg.count_where(male_x_entries.GT.is_het()),\n",
    "            missing=hl.agg.count_where(hl.is_missing(male_x_entries.GT))\n",
    "        )\n",
    "    )\n",
    "    \n",
    "    print(f\"\"\"\n",
    "    Результаты нормализации для мужчин на X-хромосоме:\n",
    "    Всего записей: {result.total}\n",
    "    Гомозиготные референсные (0/0→0): {result.hom_ref}\n",
    "    Гомозиготные альтернативные (1/1→1): {result.hom_var}\n",
    "    Гетерозиготные (0/1→NA): {result.het}\n",
    "    Пропущенные значения: {result.missing}\n",
    "    \"\"\")"
   ]
  },
  {
   "cell_type": "code",
   "execution_count": null,
   "id": "57e0ebc7-89ec-4048-82d4-ed2534aaf702",
   "metadata": {},
   "outputs": [],
   "source": [
    "mt.rows().filter(mt.AF > 0.1).select('AF').show()"
   ]
  },
  {
   "cell_type": "code",
   "execution_count": null,
   "id": "8dfa64fa-8409-4d15-bb95-b6df1ed986c2",
   "metadata": {},
   "outputs": [],
   "source": [
    "mt.filter_rows(mt.locus.contig == \"chr1\").rows().select(\"AF\").show(10)"
   ]
  },
  {
   "cell_type": "code",
   "execution_count": null,
   "id": "527a5d07",
   "metadata": {},
   "outputs": [],
   "source": [
    "# расчёт частот - 3 версия - возмжно пригодится\n",
    "def mt_AF_calculated(mt):\n",
    "    # 1. Подсчёт количества мужчин и женщин (один раз для всей таблицы)\n",
    "    counts = mt.aggregate_cols(\n",
    "        hl.struct(\n",
    "            n_females=hl.agg.count_where(mt.is_female),\n",
    "            n_males=hl.agg.count_where(~mt.is_female)\n",
    "        )\n",
    "    )\n",
    "\n",
    "    # 2. Обработка аутосом (диплоидный расчёт)\n",
    "    mt_autosomes = mt.filter_rows(~hl.set([\"chrX\", \"chrY\", \"chrM\"]).contains(mt.locus.contig))\n",
    "    mt_autosomes = mt_autosomes.annotate_rows(\n",
    "        AF = hl.agg.mean(mt_autosomes.GT.n_alt_alleles()) / 2\n",
    "    )\n",
    "\n",
    "    # 3. Обработка X-хромосомы (оптимизированный вариант)\n",
    "    mt_x = mt.filter_rows(mt.locus.contig == \"chrX\")\n",
    "    \n",
    "    # Создаём временные переменные для каждой группы\n",
    "    female_mean = mt_x.filter_cols(mt_x.is_female).annotate_rows(\n",
    "        temp_f=hl.agg.mean(mt_x.GT.n_alt_alleles()) / 2\n",
    "    ).rows()\n",
    "\n",
    "    male_mean = mt_x.filter_cols(~mt_x.is_female).annotate_rows(\n",
    "        temp_m=hl.agg.mean(mt_x.GT.n_alt_alleles())\n",
    "    ).rows()\n",
    "\n",
    "    # Объединяем результаты\n",
    "    mt_x = mt_x.annotate_rows(\n",
    "        temp_f = female_mean[mt_x.row_key].temp_f,\n",
    "        temp_m = male_mean[mt_x.row_key].temp_m\n",
    "    ).annotate_rows(\n",
    "        AF = hl.if_else(\n",
    "            hl.is_defined(mt_x.temp_f) & hl.is_defined(mt_x.temp_m),\n",
    "            (mt_x.temp_f * 2 * counts.n_females + mt_x.temp_m * counts.n_males) / \n",
    "            (2 * counts.n_females + counts.n_males),\n",
    "            hl.or_else(mt_x.temp_f * 2, mt_x.temp_m)\n",
    "        )\n",
    "    ).drop('temp_f', 'temp_m')\n",
    "\n",
    "    # 4. Обработка гаплоидных регионов (chrM, chrY)\n",
    "    mt_haploid = mt.filter_rows((mt.locus.contig == \"chrM\") | (mt.locus.contig == \"chrY\"))\n",
    "    mt_haploid = mt_haploid.annotate_rows(\n",
    "        AF = hl.agg.mean(mt_haploid.GT.n_alt_alleles())\n",
    "    )\n",
    "\n",
    "    # 5. Объединение всех частей (предварительно выравниваем схемы)\n",
    "    return (\n",
    "        mt_autosomes.select_rows(*mt_autosomes.row_key, 'AF')\n",
    "        .union_rows(mt_x.select_rows(*mt_x.row_key, 'AF'))\n",
    "        .union_rows(mt_haploid.select_rows(*mt_haploid.row_key, 'AF'))\n",
    "    )\n"
   ]
  },
  {
   "cell_type": "code",
   "execution_count": null,
   "id": "6ed8fb81-0b7a-42d3-b922-a8dcfd86ee51",
   "metadata": {},
   "outputs": [],
   "source": [
    "# посмотреть столбцы - РАБОЧИЙ\n",
    "\n",
    "old_mt = old_mt.cols()\n",
    "old_mt.show()\n",
    "\n",
    "new_mt = new_mt.cols()\n",
    "new_mt.show()"
   ]
  }
 ],
 "metadata": {
  "kernelspec": {
   "display_name": "Python 3 (ipykernel)",
   "language": "python",
   "name": "python3"
  },
  "language_info": {
   "codemirror_mode": {
    "name": "ipython",
    "version": 3
   },
   "file_extension": ".py",
   "mimetype": "text/x-python",
   "name": "python",
   "nbconvert_exporter": "python",
   "pygments_lexer": "ipython3",
   "version": "3.12.2"
  }
 },
 "nbformat": 4,
 "nbformat_minor": 5
}
